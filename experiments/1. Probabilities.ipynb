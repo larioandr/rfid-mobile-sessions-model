{
 "cells": [
  {
   "cell_type": "code",
   "execution_count": 5,
   "metadata": {},
   "outputs": [],
   "source": [
    "#!pip install tqdm tabulate matplotlib"
   ]
  },
  {
   "cell_type": "markdown",
   "metadata": {},
   "source": [
    "# Валидация урновой модели\n",
    "\n",
    "В этом ноутбуке мы исследуем вероятности распределений шариков по урнам, полученные с помощью имитационного моделирования (метода Монте-Карло) и аналитических моделей.\n",
    "\n",
    "Для нас представляют интерес три случайные переменные:\n",
    "\n",
    "- $\\mu_0$: число урн, в которых не оказалось шариков\n",
    "- $\\mu_1$: число урн, в которых оказалось по одному шарику\n",
    "- $\\mu_2$: число урн, в которых оказалось два и больше шариков"
   ]
  },
  {
   "cell_type": "code",
   "execution_count": 1,
   "metadata": {},
   "outputs": [],
   "source": [
    "%load_ext autoreload\n",
    "%autoreload 2"
   ]
  },
  {
   "cell_type": "code",
   "execution_count": 6,
   "metadata": {},
   "outputs": [],
   "source": [
    "from rfidam.baskets import BasketsOccupancyProblem, estimate_occupancy_rates, mean_num, Occupancy\n",
    "from rfidam.utils import bcolors, get_err, fmt_err, highlight, pluralize\n",
    "\n",
    "from tabulate import tabulate\n",
    "from tqdm.notebook import tqdm, trange\n",
    "import numpy as np\n",
    "import matplotlib.pyplot as plt"
   ]
  },
  {
   "cell_type": "markdown",
   "metadata": {},
   "source": [
    "Определим вспомогательные методы для однотипной подстветки таблиц и форматирования строк."
   ]
  },
  {
   "cell_type": "code",
   "execution_count": 7,
   "metadata": {},
   "outputs": [],
   "source": [
    "def fmt_header(s):\n",
    "    return highlight(s, bcolors.OKBLUE)\n",
    "\n",
    "def fmt_delim(s):\n",
    "    return highlight(s, bcolors.OKCYAN)\n",
    "\n",
    "def fmt_float(x):\n",
    "    return f'{x:.4f}'"
   ]
  },
  {
   "cell_type": "markdown",
   "metadata": {},
   "source": [
    "Все эксперименты будем проводить для случая числа корзин $N = 8$ и разного числа шариков $K = 0, 1, 4, 8, 10$."
   ]
  },
  {
   "cell_type": "code",
   "execution_count": 8,
   "metadata": {},
   "outputs": [],
   "source": [
    "N_BASKETS = 8\n",
    "N_BALLS = [0, 1, 4, 8, 10]"
   ]
  },
  {
   "cell_type": "markdown",
   "metadata": {},
   "source": [
    "## Расчет методом Монте-Карло\n",
    "\n",
    "Сначала проверим, как меняется число пустых урн ($\\mu_0$), урн с единственным шариком ($\\mu_1$) и урн с несколькими шариками ($\\mu_2$) в зависимости от числа шариков с помощью метода Монте-Карло. Для этого промоделируем распределение шаров по урнам много раз и рассчитаем частоту возникновения $m_0$ пустых урн, $m_1$ урн с одним шаром и $m_2$ урн с несколькими шарами."
   ]
  },
  {
   "cell_type": "code",
   "execution_count": 9,
   "metadata": {},
   "outputs": [
    {
     "data": {
      "application/vnd.jupyter.widget-view+json": {
       "model_id": "e8a2fc7b67f44a43a5cbe9b542f04548",
       "version_major": 2,
       "version_minor": 0
      },
      "text/plain": [
       "  0%|          | 0/5 [00:00<?, ?it/s]"
      ]
     },
     "metadata": {},
     "output_type": "display_data"
    }
   ],
   "source": [
    "# Run Monte-Carlo:\n",
    "ESTIMATIONS = [estimate_occupancy_rates(N_BASKETS, n_balls, n_iters=100000) for n_balls in tqdm(N_BALLS)]\n",
    "\n",
    "# Compute mean values:\n",
    "ESTIMATED_MEANS = [Occupancy(\n",
    "    empty=mean_num(est.empty),\n",
    "    single=mean_num(est.single),\n",
    "    many=mean_num(est.many)) for est in ESTIMATIONS]"
   ]
  },
  {
   "cell_type": "code",
   "execution_count": 10,
   "metadata": {},
   "outputs": [
    {
     "name": "stdout",
     "output_type": "stream",
     "text": [
      "\u001b[95mEmpty baskets distribution\u001b[0m\n",
      "\u001b[94m0 balls:\u001b[0m [0.000, 0.000, 0.000, 0.000, 0.000, 0.000, 0.000, 0.000, 1.000]\n",
      "\u001b[94m1 ball:\u001b[0m [0.000, 0.000, 0.000, 0.000, 0.000, 0.000, 0.000, 1.000, 0.000]\n",
      "\u001b[94m4 balls:\u001b[0m [0.000, 0.000, 0.000, 0.000, 0.410, 0.493, 0.095, 0.002, 0.000]\n",
      "\u001b[94m8 balls:\u001b[0m [0.003, 0.067, 0.319, 0.421, 0.171, 0.018, 0.000, 0.000, 0.000]\n",
      "\u001b[94m10 balls:\u001b[0m [0.030, 0.219, 0.428, 0.265, 0.055, 0.003, 0.000, 0.000, 0.000]\n"
     ]
    }
   ],
   "source": [
    "# Print distributions in Python list format:\n",
    "print(highlight('Empty baskets distribution', bcolors.HEADER))\n",
    "for i, n_balls in enumerate(N_BALLS):\n",
    "    print(highlight(f'{n_balls} ball{pluralize(n_balls)}:', bcolors.OKBLUE), '[' + ', '.join([f'{x:.3f}' for x in ESTIMATIONS[i].empty]) + ']')"
   ]
  },
  {
   "cell_type": "code",
   "execution_count": 11,
   "metadata": {},
   "outputs": [
    {
     "name": "stdout",
     "output_type": "stream",
     "text": [
      "  \u001b[94mNum. balls\u001b[0m    \u001b[94mAvg. empty\u001b[0m    \u001b[94mAvg. single\u001b[0m    \u001b[94mAvg. collided\u001b[0m\n",
      "------------  ------------  -------------  ---------------\n",
      "           \u001b[94m0\u001b[0m       8              0                0\n",
      "           \u001b[94m1\u001b[0m       7              1                0\n",
      "           \u001b[94m4\u001b[0m       4.68929        2.67988          0.63083\n",
      "           \u001b[94m8\u001b[0m       2.74773        3.13986          2.11241\n",
      "          \u001b[94m10\u001b[0m       2.10527        3.00862          2.88611\n"
     ]
    }
   ],
   "source": [
    "# Print average number of empty baskets, baskets with a single ball and baskets with multiple balls:\n",
    "rows = [(fmt_header(n_balls), est.empty, est.single, est.many) for n_balls, est in zip(N_BALLS, ESTIMATED_MEANS)]\n",
    "headers = [fmt_header(s) for s in ['Num. balls', 'Avg. empty', 'Avg. single', 'Avg. collided']]\n",
    "print(tabulate(rows, headers=headers))"
   ]
  },
  {
   "cell_type": "code",
   "execution_count": 12,
   "metadata": {},
   "outputs": [
    {
     "name": "stdout",
     "output_type": "stream",
     "text": [
      "\u001b[94m\u001b[0m                          \u001b[94m0\u001b[0m        \u001b[94m1\u001b[0m        \u001b[94m2\u001b[0m        \u001b[94m3\u001b[0m        \u001b[94m4\u001b[0m        \u001b[94m5\u001b[0m        \u001b[94m6\u001b[0m        \u001b[94m7\u001b[0m              \u001b[94m8\u001b[0m\n",
      "------------------------  -------  -------  -------  -------  -------  -------  -------  -------  -------\n",
      "\u001b[96m0 balls\u001b[0m\n",
      "\u001b[94mEmpty baskets\u001b[0m             0.0      0.0      0.0      0.0      0.0      0.0      0.0      0.0      1\n",
      "\u001b[94mBaskets with single ball\u001b[0m  1.0      0.0      0.0      0.0      0.0      0.0      0.0      0.0      0\n",
      "\u001b[94mBaskets with many balls\u001b[0m   1.0      0.0      0.0      0.0      0.0      0.0      0.0      0.0      0\n",
      "\u001b[96m1 ball\u001b[0m\n",
      "\u001b[94mEmpty baskets\u001b[0m             0.0      0.0      0.0      0.0      0.0      0.0      0.0      1.0      0\n",
      "\u001b[94mBaskets with single ball\u001b[0m  0.0      1.0      0.0      0.0      0.0      0.0      0.0      0.0      0\n",
      "\u001b[94mBaskets with many balls\u001b[0m   1.0      0.0      0.0      0.0      0.0      0.0      0.0      0.0      0\n",
      "\u001b[96m4 balls\u001b[0m\n",
      "\u001b[94mEmpty baskets\u001b[0m             0.0      0.0      0.0      0.0      0.40974  0.49307  0.09535  0.00184  0\n",
      "\u001b[94mBaskets with single ball\u001b[0m  0.04241  0.05478  0.49307  0.0      0.40974  0.0      0.0      0.0      0\n",
      "\u001b[94mBaskets with many balls\u001b[0m   0.40974  0.54969  0.04057  0.0      0.0      0.0      0.0      0.0      0\n",
      "\u001b[96m8 balls\u001b[0m\n",
      "\u001b[94mEmpty baskets\u001b[0m             0.00263  0.06746  0.3187   0.42117  0.1712   0.01849  0.00034  1e-05    0\n",
      "\u001b[94mBaskets with single ball\u001b[0m  0.02065  0.09272  0.24246  0.22671  0.28056  0.06681  0.06746  0.0      0.00263\n",
      "\u001b[94mBaskets with many balls\u001b[0m   0.00263  0.16884  0.55282  0.26491  0.0108   0.0      0.0      0.0      0\n",
      "\u001b[96m10 balls\u001b[0m\n",
      "\u001b[94mEmpty baskets\u001b[0m             0.02974  0.21882  0.42843  0.26541  0.0547   0.00284  6e-05    0.0      0\n",
      "\u001b[94mBaskets with single ball\u001b[0m  0.0235   0.10951  0.23526  0.27639  0.21945  0.09825  0.03311  0.00453  0\n",
      "\u001b[94mBaskets with many balls\u001b[0m   0.0      0.01858  0.27014  0.52351  0.18213  0.00564  0.0      0.0      0\n"
     ]
    }
   ],
   "source": [
    "# Print probabilities that M urns are empty, have single or multiple balls\n",
    "rows = []\n",
    "for n_balls, occupancy in zip(N_BALLS, ESTIMATIONS):\n",
    "    rows.append([fmt_delim(f'{n_balls} ball{pluralize(n_balls)}')] + [''] * N_BASKETS)\n",
    "    rows.append([fmt_header('Empty baskets')] + list(occupancy.empty))\n",
    "    rows.append([fmt_header('Baskets with single ball')] + list(occupancy.single))\n",
    "    rows.append([fmt_header('Baskets with many balls')] + list(occupancy.many))\n",
    "headers = [fmt_header(s) for s in [''] + list(range(N_BASKETS + 1))]\n",
    "print(tabulate(rows, headers=headers))"
   ]
  },
  {
   "cell_type": "markdown",
   "metadata": {},
   "source": [
    "## Сравнение среднего числа урн разного типа, рассчитанного из аналитики и метода Монте-Карло\n",
    "\n",
    "Рассчитаем распределения величин $\\mu_0$, $\\mu_1$ и $\\mu_2$ с помощью аналитической модели и сравним результаты с тем, что было получено выше с помощью метода Монте-Карло."
   ]
  },
  {
   "cell_type": "code",
   "execution_count": 13,
   "metadata": {},
   "outputs": [
    {
     "data": {
      "application/vnd.jupyter.widget-view+json": {
       "model_id": "07ef2ce7fe6f4a4587344c9094af5dcf",
       "version_major": 2,
       "version_minor": 0
      },
      "text/plain": [
       "  0%|          | 0/5 [00:00<?, ?it/s]"
      ]
     },
     "metadata": {},
     "output_type": "display_data"
    }
   ],
   "source": [
    "# Create UrnProblem instances for various balls count:\n",
    "PROBLEMS = [BasketsOccupancyProblem(N_BASKETS, n_balls) for n_balls in N_BALLS]\n",
    "\n",
    "# Compute analytically average number of empty baskets, baskets with a single ball and baskets with multiple balls:\n",
    "ANALYTIC_MEANS = [problem.avg_count for problem in tqdm(PROBLEMS)]"
   ]
  },
  {
   "cell_type": "markdown",
   "metadata": {},
   "source": [
    "### Среднее число пустых урн, урн с одним или многими шариками \n",
    "\n",
    "Сравним средние значения числа урн без шариков ($\\mathbb{E}\\mu_0$), урн с одним шариков ($\\mathbb{E}\\mu_1$) и урн с двумя или более шариками ($\\mathbb{E}\\mu_2$)."
   ]
  },
  {
   "cell_type": "code",
   "execution_count": 14,
   "metadata": {},
   "outputs": [
    {
     "name": "stdout",
     "output_type": "stream",
     "text": [
      "\u001b[94m\u001b[0m             \u001b[94mEmpty baskets\u001b[0m    \u001b[94mBaskets with one ball\u001b[0m    \u001b[94mBaskets with many balls\u001b[0m\n",
      "-----------  ---------------  -----------------------  -------------------------\n",
      "\u001b[96m0 balls\u001b[0m\n",
      "\u001b[94mAnalytic\u001b[0m     8.0000           0.0000                   0.0000\n",
      "\u001b[94mMonte-Carlo\u001b[0m  8.0000           0.0000                   0.0000\n",
      "\u001b[94mError\u001b[0m        \u001b[92m0.0000\u001b[0m           \u001b[92m0.0000\u001b[0m                   \u001b[92m0.0000\u001b[0m\n",
      "\u001b[96m1 ball\u001b[0m\n",
      "\u001b[94mAnalytic\u001b[0m     7.0000           1.0000                   0.0000\n",
      "\u001b[94mMonte-Carlo\u001b[0m  7.0000           1.0000                   0.0000\n",
      "\u001b[94mError\u001b[0m        \u001b[92m0.0000\u001b[0m           \u001b[92m0.0000\u001b[0m                   \u001b[92m0.0000\u001b[0m\n",
      "\u001b[96m4 balls\u001b[0m\n",
      "\u001b[94mAnalytic\u001b[0m     4.6895           2.6797                   0.6309\n",
      "\u001b[94mMonte-Carlo\u001b[0m  4.6893           2.6799                   0.6308\n",
      "\u001b[94mError\u001b[0m        \u001b[92m0.0000\u001b[0m           \u001b[92m0.0001\u001b[0m                   \u001b[92m0.0000\u001b[0m\n",
      "\u001b[96m8 balls\u001b[0m\n",
      "\u001b[94mAnalytic\u001b[0m     2.7489           3.1416                   2.1096\n",
      "\u001b[94mMonte-Carlo\u001b[0m  2.7477           3.1399                   2.1124\n",
      "\u001b[94mError\u001b[0m        \u001b[92m0.0004\u001b[0m           \u001b[92m0.0005\u001b[0m                   \u001b[92m0.0013\u001b[0m\n",
      "\u001b[96m10 balls\u001b[0m\n",
      "\u001b[94mAnalytic\u001b[0m     2.0987           3.0010                   2.9003\n",
      "\u001b[94mMonte-Carlo\u001b[0m  2.1053           3.0086                   2.8861\n",
      "\u001b[94mError\u001b[0m        \u001b[92m0.0031\u001b[0m           \u001b[92m0.0025\u001b[0m                   \u001b[92m0.0049\u001b[0m\n"
     ]
    }
   ],
   "source": [
    "# Display analytic vs estimated urns counts and compute errors\n",
    "rows = []\n",
    "for n_balls, analytic, estimated in zip(N_BALLS, ANALYTIC_MEANS, ESTIMATED_MEANS):\n",
    "    rows.append([fmt_delim(f'{n_balls} ball{pluralize(n_balls)}')] + [''] * 3)\n",
    "    rows.append([fmt_header('Analytic'), fmt_float(analytic.empty), fmt_float(analytic.single), fmt_float(analytic.many)])\n",
    "    rows.append([fmt_header('Monte-Carlo'), fmt_float(estimated.empty), fmt_float(estimated.single), fmt_float(estimated.many)])\n",
    "    rows.append([\n",
    "        fmt_header('Error'), \n",
    "        fmt_err(estimated.empty, analytic.empty), \n",
    "        fmt_err(estimated.single, analytic.single), \n",
    "        fmt_err(estimated.many, analytic.many),\n",
    "    ])\n",
    "headers = [fmt_header(s) for s in ['', 'Empty baskets', 'Baskets with one ball', 'Baskets with many balls']]\n",
    "print(tabulate(rows, headers=headers))"
   ]
  },
  {
   "cell_type": "markdown",
   "metadata": {},
   "source": [
    "### Распределение числа пустых урн\n",
    "\n",
    "Проверим, что распределение числа пустых урн имеет вид\n",
    "\n",
    "$$\n",
    "\\mathbb{P}\\{\\mu_0 = m\\} = \\frac{ \\binom{N}{m} {K\\brace N-m} (N - m)! }{N^K} = \\frac{N! {K\\brace N-m} }{N^k m!},\n",
    "$$\n",
    "где $\\begin{Bmatrix} K\\\\N-m \\end{Bmatrix}$ - число Стирлинга 2-го рода (число разбиений $K$ шаров на $N-m$ непустых подмножеств)."
   ]
  },
  {
   "cell_type": "code",
   "execution_count": 15,
   "metadata": {},
   "outputs": [
    {
     "name": "stdout",
     "output_type": "stream",
     "text": [
      "\u001b[94m\u001b[0m             \u001b[94m0\u001b[0m       \u001b[94m1\u001b[0m       \u001b[94m2\u001b[0m       \u001b[94m3\u001b[0m       \u001b[94m4\u001b[0m       \u001b[94m5\u001b[0m       \u001b[94m6\u001b[0m       \u001b[94m7\u001b[0m         \u001b[94m8\u001b[0m\n",
      "-----------  ------  ------  ------  ------  ------  ------  ------  ------  ---\n",
      "\u001b[96m0 balls\u001b[0m\n",
      "\u001b[94mAnalytic\u001b[0m     0.0000  0.0000  0.0000  0.0000  0.0000  0.0000  0.0000  0.0000    1\n",
      "\u001b[94mMonte-Carlo\u001b[0m  0.0000  0.0000  0.0000  0.0000  0.0000  0.0000  0.0000  0.0000    1\n",
      "\u001b[94mError\u001b[0m        \u001b[92m0.0000\u001b[0m  \u001b[92m0.0000\u001b[0m  \u001b[92m0.0000\u001b[0m  \u001b[92m0.0000\u001b[0m  \u001b[92m0.0000\u001b[0m  \u001b[92m0.0000\u001b[0m  \u001b[92m0.0000\u001b[0m  \u001b[92m0.0000\u001b[0m    \u001b[92m0\u001b[0m\n",
      "\u001b[96m1 ball\u001b[0m\n",
      "\u001b[94mAnalytic\u001b[0m     0.0000  0.0000  0.0000  0.0000  0.0000  0.0000  0.0000  1.0000    0\n",
      "\u001b[94mMonte-Carlo\u001b[0m  0.0000  0.0000  0.0000  0.0000  0.0000  0.0000  0.0000  1.0000    0\n",
      "\u001b[94mError\u001b[0m        \u001b[92m0.0000\u001b[0m  \u001b[92m0.0000\u001b[0m  \u001b[92m0.0000\u001b[0m  \u001b[92m0.0000\u001b[0m  \u001b[92m0.0000\u001b[0m  \u001b[92m0.0000\u001b[0m  \u001b[92m0.0000\u001b[0m  \u001b[92m0.0000\u001b[0m    \u001b[92m0\u001b[0m\n",
      "\u001b[96m4 balls\u001b[0m\n",
      "\u001b[94mAnalytic\u001b[0m     0.0000  0.0000  0.0000  0.0000  0.4102  0.4922  0.0957  0.0020    0\n",
      "\u001b[94mMonte-Carlo\u001b[0m  0.0000  0.0000  0.0000  0.0000  0.4097  0.4931  0.0954  0.0018    0\n",
      "\u001b[94mError\u001b[0m        \u001b[92m0.0000\u001b[0m  \u001b[92m0.0000\u001b[0m  \u001b[92m0.0000\u001b[0m  \u001b[92m0.0000\u001b[0m  \u001b[92m0.0010\u001b[0m  \u001b[92m0.0018\u001b[0m  \u001b[92m0.0037\u001b[0m  \u001b[92m0.0615\u001b[0m    \u001b[92m0\u001b[0m\n",
      "\u001b[96m8 balls\u001b[0m\n",
      "\u001b[94mAnalytic\u001b[0m     0.0024  0.0673  0.3196  0.4206  0.1703  0.0193  0.0004  0.0000    0\n",
      "\u001b[94mMonte-Carlo\u001b[0m  0.0026  0.0675  0.3187  0.4212  0.1712  0.0185  0.0003  0.0000    0\n",
      "\u001b[94mError\u001b[0m        \u001b[92m0.0862\u001b[0m  \u001b[92m0.0025\u001b[0m  \u001b[92m0.0029\u001b[0m  \u001b[92m0.0014\u001b[0m  \u001b[92m0.0051\u001b[0m  \u001b[92m0.0463\u001b[0m  \u001b[92m0.2468\u001b[0m  \u001b[92m0.9523\u001b[0m    \u001b[92m0\u001b[0m\n",
      "\u001b[96m10 balls\u001b[0m\n",
      "\u001b[94mAnalytic\u001b[0m     0.0290  0.2202  0.4308  0.2657  0.0519  0.0025  0.0000  0.0000    0\n",
      "\u001b[94mMonte-Carlo\u001b[0m  0.0297  0.2188  0.4284  0.2654  0.0547  0.0028  0.0001  0.0000    0\n",
      "\u001b[94mError\u001b[0m        \u001b[92m0.0249\u001b[0m  \u001b[92m0.0063\u001b[0m  \u001b[92m0.0054\u001b[0m  \u001b[92m0.0011\u001b[0m  \u001b[92m0.0521\u001b[0m  \u001b[92m0.1197\u001b[0m  \u001b[92m1.0000\u001b[0m  \u001b[92m0.0000\u001b[0m    \u001b[92m0\u001b[0m\n"
     ]
    }
   ],
   "source": [
    "rows = []\n",
    "for n_balls, analytic, estimated in zip(N_BALLS, PROBLEMS, ESTIMATIONS):\n",
    "    rows.append([fmt_delim(f'{n_balls} ball{pluralize(n_balls)}')] + [''] * N_BASKETS)\n",
    "    rows.append([fmt_header('Analytic')] + [fmt_float(x) for x in analytic.empty])\n",
    "    rows.append([fmt_header('Monte-Carlo')] + [fmt_float(x) for x in estimated.empty])\n",
    "    rows.append([fmt_header('Error')] + [fmt_err(es, an, min_abs_val=.01) for es, an in zip(estimated.empty, analytic.empty)])\n",
    "headers = [fmt_header(s) for s in [''] + list(range(N_BASKETS + 1))]\n",
    "print(tabulate(rows, headers=headers))"
   ]
  },
  {
   "cell_type": "markdown",
   "metadata": {},
   "source": [
    "### Распределение числа урн с одним шариком\n",
    "\n",
    "В текущей версии мы используем формулу для расчета вероятности $\\mathbb{P}\\{\\mu_1 = m\\}$, взятую в работе [1]:\n",
    "\n",
    "$$\n",
    "\\mathbb{P}\\{\\mu_1 = m\\} = \\frac{N! K!}{m! N^K} \\sum\\limits_{z=0}^{K - m} \\frac{(-1)^z (N - m - z)^{K - m - z}}{(K - m - z)! z! (N - m - z)!}.\n",
    "$$\n",
    "где $N$ - число урн, $K$ - число шаров.\n",
    "\n",
    "К сожалению, эта формула не работает при $K > N$ (в знаменателе образуется факториал отрицательного числа), поэтому в этом случае пользуемся методом Монте-Карло для оценки вероятности.\n",
    "\n",
    "> [1] Vales-Alonso, J.; Bueno-Delgado, M.V.; Egea-López, E.; Alcaraz, J.J.; Pérez-Mañogil, J.M. On the Optimal Identification of Tag Sets in Time-Constrained RFID Configurations. Sensors 2011, 11, 2946-2960. https://doi.org/10.3390/s110302946."
   ]
  },
  {
   "cell_type": "code",
   "execution_count": 16,
   "metadata": {},
   "outputs": [
    {
     "name": "stdout",
     "output_type": "stream",
     "text": [
      "\u001b[94m\u001b[0m             \u001b[94m0\u001b[0m       \u001b[94m1\u001b[0m       \u001b[94m2\u001b[0m       \u001b[94m3\u001b[0m       \u001b[94m4\u001b[0m       \u001b[94m5\u001b[0m       \u001b[94m6\u001b[0m       \u001b[94m7\u001b[0m            \u001b[94m8\u001b[0m\n",
      "-----------  ------  ------  ------  ------  ------  ------  ------  ------  ------\n",
      "\u001b[96m0 balls\u001b[0m\n",
      "\u001b[94mAnalytic\u001b[0m     1.0000  0.0000  0.0000  0.0000  0.0000  0.0000  0.0000  0.0000  0\n",
      "\u001b[94mMonte-Carlo\u001b[0m  1.0000  0.0000  0.0000  0.0000  0.0000  0.0000  0.0000  0.0000  0\n",
      "\u001b[94mError\u001b[0m        \u001b[92m0.0000\u001b[0m  \u001b[92m0.0000\u001b[0m  \u001b[92m0.0000\u001b[0m  \u001b[92m0.0000\u001b[0m  \u001b[92m0.0000\u001b[0m  \u001b[92m0.0000\u001b[0m  \u001b[92m0.0000\u001b[0m  \u001b[92m0.0000\u001b[0m  \u001b[92m0\u001b[0m\n",
      "\u001b[96m1 ball\u001b[0m\n",
      "\u001b[94mAnalytic\u001b[0m     0.0000  1.0000  0.0000  0.0000  0.0000  0.0000  0.0000  0.0000  0\n",
      "\u001b[94mMonte-Carlo\u001b[0m  0.0000  1.0000  0.0000  0.0000  0.0000  0.0000  0.0000  0.0000  0\n",
      "\u001b[94mError\u001b[0m        \u001b[92m0.0000\u001b[0m  \u001b[92m0.0000\u001b[0m  \u001b[92m0.0000\u001b[0m  \u001b[92m0.0000\u001b[0m  \u001b[92m0.0000\u001b[0m  \u001b[92m0.0000\u001b[0m  \u001b[92m0.0000\u001b[0m  \u001b[92m0.0000\u001b[0m  \u001b[92m0\u001b[0m\n",
      "\u001b[96m4 balls\u001b[0m\n",
      "\u001b[94mAnalytic\u001b[0m     0.0430  0.0547  0.4922  0.0000  0.4102  0.0000  0.0000  0.0000  0\n",
      "\u001b[94mMonte-Carlo\u001b[0m  0.0424  0.0548  0.4931  0.0000  0.4097  0.0000  0.0000  0.0000  0\n",
      "\u001b[94mError\u001b[0m        \u001b[92m0.0132\u001b[0m  \u001b[92m0.0017\u001b[0m  \u001b[92m0.0018\u001b[0m  \u001b[92m0.0000\u001b[0m  \u001b[92m0.0010\u001b[0m  \u001b[92m0.0000\u001b[0m  \u001b[92m0.0000\u001b[0m  \u001b[92m0.0000\u001b[0m  \u001b[92m0\u001b[0m\n",
      "\u001b[96m8 balls\u001b[0m\n",
      "\u001b[94mAnalytic\u001b[0m     0.0207  0.0931  0.2389  0.2299  0.2804  0.0673  0.0673  0.0000  0.0024\n",
      "\u001b[94mMonte-Carlo\u001b[0m  0.0207  0.0927  0.2425  0.2267  0.2806  0.0668  0.0675  0.0000  0.0026\n",
      "\u001b[94mError\u001b[0m        \u001b[92m0.0036\u001b[0m  \u001b[92m0.0042\u001b[0m  \u001b[92m0.0147\u001b[0m  \u001b[92m0.0141\u001b[0m  \u001b[92m0.0006\u001b[0m  \u001b[92m0.0072\u001b[0m  \u001b[92m0.0025\u001b[0m  \u001b[92m0.0000\u001b[0m  \u001b[92m0.0862\u001b[0m\n",
      "\u001b[96m10 balls\u001b[0m\n",
      "\u001b[94mAnalytic\u001b[0m     0.0226  0.1067  0.2394  0.2814  0.2190  0.0950  0.0310  0.0049  0\n",
      "\u001b[94mMonte-Carlo\u001b[0m  0.0235  0.1095  0.2353  0.2764  0.2195  0.0983  0.0331  0.0045  0\n",
      "\u001b[94mError\u001b[0m        \u001b[92m0.0383\u001b[0m  \u001b[92m0.0257\u001b[0m  \u001b[92m0.0176\u001b[0m  \u001b[92m0.0181\u001b[0m  \u001b[92m0.0023\u001b[0m  \u001b[92m0.0326\u001b[0m  \u001b[92m0.0637\u001b[0m  \u001b[92m0.0817\u001b[0m  \u001b[92m0\u001b[0m\n"
     ]
    }
   ],
   "source": [
    "rows = []\n",
    "for n_balls, analytic, estimated in zip(N_BALLS, PROBLEMS, ESTIMATIONS):\n",
    "    rows.append([fmt_delim(f'{n_balls} ball{pluralize(n_balls)}')] + [''] * N_BASKETS)\n",
    "    rows.append([fmt_header('Analytic')] + [fmt_float(x) for x in analytic.single])\n",
    "    rows.append([fmt_header('Monte-Carlo')] + [fmt_float(x) for x in estimated.single])\n",
    "    rows.append([fmt_header('Error')] + [fmt_err(es, an, min_abs_val=.01) for es, an in zip(estimated.single, analytic.single)])\n",
    "headers = [fmt_header(s) for s in [''] + list(range(N_BASKETS + 1))]\n",
    "print(tabulate(rows, headers=headers))"
   ]
  },
  {
   "cell_type": "markdown",
   "metadata": {},
   "source": [
    "Возможные ошибки для случая 10 шариков - прямое следствие того, что в аналитической модели при $K > N$ тоже используется метод Монте-Карло. Избежать их можно, если повысить точность расчета (но лучше все-таки разработать формулу, учитывающую случай $K > N$)."
   ]
  },
  {
   "cell_type": "markdown",
   "metadata": {},
   "source": [
    "## Экспериментальный код\n",
    "\n",
    "Код в следующих ячейках не используется в самой модели. Он содержит эксперименты над комбинаторными формулами (разной степени успешности)."
   ]
  },
  {
   "cell_type": "code",
   "execution_count": 17,
   "metadata": {},
   "outputs": [],
   "source": [
    "from functools import lru_cache as cache\n",
    "\n",
    "\n",
    "@cache\n",
    "def count_collided_parts(n: int, k: int) -> int:\n",
    "    \"\"\"\n",
    "    Compute the number of ways to split n elements into k collided parts.\n",
    "\n",
    "    Collided part is a part which contains two or more elements. This\n",
    "    function returns the number of ways to split the set of n elements into\n",
    "    k parts in a way that each part contains two or more elements.\n",
    "\n",
    "    Let us denote this function as Sc(n, k), Stirling 2nd kind number as\n",
    "    S(n, k) and number of combinations as C(n, k). Then:\n",
    "\n",
    "    Sc(n, k) = S(n, k) - C(k, 1) Sc(n-1, k-1) - C(k, 2) Sc(n-2, k-2) - ...\n",
    "        - C(k, k) Sc(n-k, 0).\n",
    "\n",
    "    # TODO: test me!\n",
    "\n",
    "    Trivial cases:\n",
    "\n",
    "    - Sc(n, 0) = 0 when n > 0\n",
    "    - Sc(n, 1) = 0\n",
    "    - Sc(n, n) = 0 when n > 0\n",
    "    - Sc(0, 0) = 1\n",
    "\n",
    "    Parameters\n",
    "    ----------\n",
    "    n : int\n",
    "        number of elements\n",
    "    k : int\n",
    "        number of parts\n",
    "\n",
    "    Returns\n",
    "    -------\n",
    "    s : int\n",
    "    \"\"\"\n",
    "    if n == 0 and k == 0:\n",
    "        return 1\n",
    "    if k <= 1 or n < 2*k:\n",
    "        return 0\n",
    "    x = stirling2(n, k)\n",
    "    for i in range(1, k):\n",
    "        x -= comb(n, i) * count_collided_parts(n - i, k - i)\n",
    "    return x"
   ]
  },
  {
   "cell_type": "code",
   "execution_count": 18,
   "metadata": {},
   "outputs": [],
   "source": [
    "@cache\n",
    "def get_single_cond_prob(problem: BasketsOccupancyProblem, m: int, n_empty: int):\n",
    "    # FIXME: WRONG RESULTS!\n",
    "    n_baskets = problem.n_baskets\n",
    "    n_balls = problem.n_balls\n",
    "\n",
    "    if n_empty >= n_baskets or m > n_balls or m > n_baskets - n_empty:\n",
    "        return 0.0\n",
    "\n",
    "    num = comb(n_balls, m) * comb(n_baskets - n_empty, m) * \\\n",
    "        comb(n_baskets, n_empty) * factorial(m) * \\\n",
    "        count_collided_parts(n_balls - m, n_baskets - n_empty - m) * \\\n",
    "        factorial(n_baskets - n_empty - m)\n",
    "    den = (n_baskets - n_empty) ** n_balls\n",
    "\n",
    "    return num / den"
   ]
  },
  {
   "cell_type": "code",
   "execution_count": null,
   "metadata": {},
   "outputs": [],
   "source": []
  }
 ],
 "metadata": {
  "kernelspec": {
   "display_name": "Python 3",
   "language": "python",
   "name": "python3"
  },
  "language_info": {
   "codemirror_mode": {
    "name": "ipython",
    "version": 3
   },
   "file_extension": ".py",
   "mimetype": "text/x-python",
   "name": "python",
   "nbconvert_exporter": "python",
   "pygments_lexer": "ipython3",
   "version": "3.8.5"
  }
 },
 "nbformat": 4,
 "nbformat_minor": 4
}
