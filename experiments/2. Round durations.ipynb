{
 "cells": [
  {
   "cell_type": "markdown",
   "metadata": {},
   "source": [
    "# Валидация расчета длительностей раундов\n",
    "\n",
    "В этом ноутбуке найдем и сравним оценки длительностей раундов при заданной вероятности битовой ошибки (BER) с помощью метода Монте-Карло и аналитической модели, построенной на урновой схеме."
   ]
  },
  {
   "cell_type": "code",
   "execution_count": 1,
   "metadata": {},
   "outputs": [],
   "source": [
    "%load_ext autoreload\n",
    "%autoreload 2"
   ]
  },
  {
   "cell_type": "code",
   "execution_count": 2,
   "metadata": {},
   "outputs": [],
   "source": [
    "from rfidam.inventory import RoundModel, SlotModel, estimate_rounds_props, SlotValues\n",
    "from rfidam.protocol.protocol import Protocol, LinkProps\n",
    "from rfidam.utils import bcolors, get_err, fmt_err, highlight, pluralize\n",
    "from rfidam.protocol.symbols import TagEncoding, DR\n",
    "\n",
    "from tabulate import tabulate\n",
    "from tqdm.notebook import tqdm\n",
    "import numpy as np\n",
    "import matplotlib.pyplot as plt\n",
    "import matplotlib as mpl\n",
    "from itertools import product\n",
    "\n",
    "from utility.jupyter_helpers import savefig, get_color, setup_matplotlib"
   ]
  },
  {
   "cell_type": "code",
   "execution_count": 3,
   "metadata": {},
   "outputs": [],
   "source": [
    "%matplotlib inline\n",
    "# Настроим Matplotlib: выберем цветовую схему и сделаем шрифты крупнее\n",
    "setup_matplotlib()"
   ]
  },
  {
   "cell_type": "markdown",
   "metadata": {},
   "source": [
    "Определим вспомогательные методы для однотипной подстветки таблиц и форматирования строк."
   ]
  },
  {
   "cell_type": "code",
   "execution_count": 4,
   "metadata": {},
   "outputs": [],
   "source": [
    "def fmt_header(s):\n",
    "    return highlight(s, bcolors.OKBLUE)\n",
    "\n",
    "def fmt_delim(s):\n",
    "    return highlight(s, bcolors.OKCYAN)\n",
    "\n",
    "def fmt_float(x):\n",
    "    return f'{x:.4f}'"
   ]
  },
  {
   "cell_type": "markdown",
   "metadata": {},
   "source": [
    "## Параметры модели\n",
    "\n",
    "Определим два сценария идентификации меток:\n",
    "\n",
    "- идентификация по EPCID\n",
    "- идентификация по TID и EPCID\n",
    "\n",
    "В обоих случаях будем использовать идентичные настройки протокола:\n",
    "\n",
    "- `Tari = 12.5us`\n",
    "- `RTcal = 37.5us`\n",
    "- `TRcal = 50us`\n",
    "- `DR = 64/3`\n",
    "- `TRext = 0`\n",
    "- `Q = 4`\n",
    "- `M = 2`\n",
    "\n",
    "Также будем считать, что длина EPCID равна 12 байтам, а TID - 8 байтам (4 словам)."
   ]
  },
  {
   "cell_type": "code",
   "execution_count": 5,
   "metadata": {},
   "outputs": [],
   "source": [
    "PROTOCOL_SETTINGS = {\n",
    "    'tari': 12.5e-6,\n",
    "    'rtcal': 37.5e-6,\n",
    "    'trcal': 50e-6,\n",
    "    'm': TagEncoding.M2,\n",
    "    'dr': DR.DR_643,\n",
    "    'trext': False,\n",
    "    'q': 4,\n",
    "    't_off': 0.1,\n",
    "    'n_epcid_bytes': 12,\n",
    "    'n_data_words': 4\n",
    "}\n",
    "\n",
    "LINK_PROPS = {\n",
    "    'epcid': LinkProps(**PROTOCOL_SETTINGS, use_tid=False),\n",
    "    'tid': LinkProps(**PROTOCOL_SETTINGS, use_tid=True)\n",
    "}\n",
    "\n",
    "PROTOCOLS = {key: Protocol(LINK_PROPS[key]) for key in LINK_PROPS}"
   ]
  },
  {
   "cell_type": "markdown",
   "metadata": {},
   "source": [
    "Число меток будем брать из множества $N = 0, 1, 2, 3, 4, 10, 20$."
   ]
  },
  {
   "cell_type": "code",
   "execution_count": 6,
   "metadata": {},
   "outputs": [],
   "source": [
    "N_TAGS = np.arange(21)\n",
    "BER = [.001, .005, .01, .02]"
   ]
  },
  {
   "cell_type": "markdown",
   "metadata": {},
   "source": [
    "## Вычисление параметров раундов методом Монте-Карло\n",
    "\n",
    "Рассчитаем длины слотов и раундов методом Монте-Карло. Для этого будем моделировать процесс идентификации меток, собирать длительности слотов без ответов меток, слотов с попытками ответа одной метки и слотов с коллизиями."
   ]
  },
  {
   "cell_type": "code",
   "execution_count": 7,
   "metadata": {},
   "outputs": [
    {
     "data": {
      "application/vnd.jupyter.widget-view+json": {
       "model_id": "016fdde6c1d6418c87c7bc75affad6eb",
       "version_major": 2,
       "version_minor": 0
      },
      "text/plain": [
       "  0%|          | 0/2 [00:00<?, ?it/s]"
      ]
     },
     "metadata": {},
     "output_type": "display_data"
    },
    {
     "data": {
      "application/vnd.jupyter.widget-view+json": {
       "model_id": "",
       "version_major": 2,
       "version_minor": 0
      },
      "text/plain": [
       "  0%|          | 0/4 [00:00<?, ?it/s]"
      ]
     },
     "metadata": {},
     "output_type": "display_data"
    },
    {
     "data": {
      "application/vnd.jupyter.widget-view+json": {
       "model_id": "",
       "version_major": 2,
       "version_minor": 0
      },
      "text/plain": [
       "  0%|          | 0/21 [00:00<?, ?it/s]"
      ]
     },
     "metadata": {},
     "output_type": "display_data"
    },
    {
     "data": {
      "application/vnd.jupyter.widget-view+json": {
       "model_id": "",
       "version_major": 2,
       "version_minor": 0
      },
      "text/plain": [
       "  0%|          | 0/21 [00:00<?, ?it/s]"
      ]
     },
     "metadata": {},
     "output_type": "display_data"
    },
    {
     "data": {
      "application/vnd.jupyter.widget-view+json": {
       "model_id": "",
       "version_major": 2,
       "version_minor": 0
      },
      "text/plain": [
       "  0%|          | 0/21 [00:00<?, ?it/s]"
      ]
     },
     "metadata": {},
     "output_type": "display_data"
    },
    {
     "data": {
      "application/vnd.jupyter.widget-view+json": {
       "model_id": "",
       "version_major": 2,
       "version_minor": 0
      },
      "text/plain": [
       "  0%|          | 0/21 [00:00<?, ?it/s]"
      ]
     },
     "metadata": {},
     "output_type": "display_data"
    },
    {
     "data": {
      "application/vnd.jupyter.widget-view+json": {
       "model_id": "",
       "version_major": 2,
       "version_minor": 0
      },
      "text/plain": [
       "  0%|          | 0/4 [00:00<?, ?it/s]"
      ]
     },
     "metadata": {},
     "output_type": "display_data"
    },
    {
     "data": {
      "application/vnd.jupyter.widget-view+json": {
       "model_id": "",
       "version_major": 2,
       "version_minor": 0
      },
      "text/plain": [
       "  0%|          | 0/21 [00:00<?, ?it/s]"
      ]
     },
     "metadata": {},
     "output_type": "display_data"
    },
    {
     "data": {
      "application/vnd.jupyter.widget-view+json": {
       "model_id": "",
       "version_major": 2,
       "version_minor": 0
      },
      "text/plain": [
       "  0%|          | 0/21 [00:00<?, ?it/s]"
      ]
     },
     "metadata": {},
     "output_type": "display_data"
    },
    {
     "data": {
      "application/vnd.jupyter.widget-view+json": {
       "model_id": "",
       "version_major": 2,
       "version_minor": 0
      },
      "text/plain": [
       "  0%|          | 0/21 [00:00<?, ?it/s]"
      ]
     },
     "metadata": {},
     "output_type": "display_data"
    },
    {
     "data": {
      "application/vnd.jupyter.widget-view+json": {
       "model_id": "",
       "version_major": 2,
       "version_minor": 0
      },
      "text/plain": [
       "  0%|          | 0/21 [00:00<?, ?it/s]"
      ]
     },
     "metadata": {},
     "output_type": "display_data"
    }
   ],
   "source": [
    "# We will store values for each protocol in matrices,\n",
    "# where rows correspond to different BER values and columns - number of tags:\n",
    "\n",
    "ESTIMATED_ROUND_DURATIONS = {key: [] for key in PROTOCOLS}\n",
    "ESTIMATED_SLOTS_DURATIONS = {key: [] for key in PROTOCOLS}\n",
    "ESTIMATED_SLOTS_COUNTS = {key: [] for key in PROTOCOLS}\n",
    "\n",
    "TQDM_PROTOCOLS = tqdm(PROTOCOLS)\n",
    "\n",
    "for protocol_name in TQDM_PROTOCOLS:\n",
    "    \n",
    "    TQDM_PROTOCOLS.set_description(protocol_name)\n",
    "    TQDM_BER = tqdm(BER, leave=False)\n",
    "    protocol = PROTOCOLS[protocol_name]\n",
    "\n",
    "    for ber in TQDM_BER:\n",
    "        \n",
    "        TQDM_BER.set_description(f'BER={ber}')\n",
    "        estimated_round_durations = []\n",
    "        estimated_slots_durations = []\n",
    "        estimated_slots_counts = []\n",
    "        TQDM_TAGS = tqdm(N_TAGS, leave=False)\n",
    "        \n",
    "        for n_tags in TQDM_TAGS:\n",
    "            TQDM_TAGS.set_description(f'{n_tags} tags')\n",
    "            \n",
    "            # Run Monte-Carlo:\n",
    "            round_duration, slots_durations, slots_counts = \\\n",
    "                estimate_rounds_props(protocol, n_tags, ber, n_iters=range(2000))\n",
    "            \n",
    "            estimated_round_durations.append(round_duration)\n",
    "            estimated_slots_durations.append(slots_durations)\n",
    "            estimated_slots_counts.append(slots_counts)\n",
    "        \n",
    "        # Store results:\n",
    "        ESTIMATED_ROUND_DURATIONS[protocol_name].append(estimated_round_durations)\n",
    "        ESTIMATED_SLOTS_DURATIONS[protocol_name].append(estimated_slots_durations)\n",
    "        ESTIMATED_SLOTS_COUNTS[protocol_name].append(estimated_slots_counts)"
   ]
  },
  {
   "cell_type": "markdown",
   "metadata": {},
   "source": [
    "## Вычисление параметров раундов с помощью аналитической модели\n",
    "\n",
    "Теперь вычислим длительности раундов и слотов с помощью аналитической модели. Эта модель использует урновую схему (см. `rfidam.baskets`) для расчета среднего количества пустых слотов, слотов с одним ответом и слотов с коллизиями."
   ]
  },
  {
   "cell_type": "code",
   "execution_count": 8,
   "metadata": {},
   "outputs": [
    {
     "data": {
      "application/vnd.jupyter.widget-view+json": {
       "model_id": "ecbc82dd036a4ca7824e33197dcccf1d",
       "version_major": 2,
       "version_minor": 0
      },
      "text/plain": [
       "  0%|          | 0/2 [00:00<?, ?it/s]"
      ]
     },
     "metadata": {},
     "output_type": "display_data"
    },
    {
     "data": {
      "application/vnd.jupyter.widget-view+json": {
       "model_id": "",
       "version_major": 2,
       "version_minor": 0
      },
      "text/plain": [
       "  0%|          | 0/4 [00:00<?, ?it/s]"
      ]
     },
     "metadata": {},
     "output_type": "display_data"
    },
    {
     "data": {
      "application/vnd.jupyter.widget-view+json": {
       "model_id": "",
       "version_major": 2,
       "version_minor": 0
      },
      "text/plain": [
       "  0%|          | 0/4 [00:00<?, ?it/s]"
      ]
     },
     "metadata": {},
     "output_type": "display_data"
    }
   ],
   "source": [
    "# As above, we store models in dictionaries with the same keys sets as protocols.\n",
    "# At each key, we store a matrix, in which:\n",
    "# - rows correspond to BER values\n",
    "# - columns correspond to different numbers of tags\n",
    "ROUND_MODELS = {key: [] for key in PROTOCOLS}\n",
    "\n",
    "# Also store round durations separately.\n",
    "# We do so, since `round_durations` property is cached, so calling it will run estimation.\n",
    "ANALYTIC_ROUND_DURATIONS = {key: [] for key in PROTOCOLS}\n",
    "\n",
    "TQDM_PROTOCOLS = tqdm(PROTOCOLS)\n",
    "for protocol_name in TQDM_PROTOCOLS:\n",
    "    \n",
    "    TQDM_PROTOCOLS.set_description(protocol_name)\n",
    "    TQDM_BERS = tqdm(BER, leave=False)\n",
    "    protocol = PROTOCOLS[protocol_name]\n",
    "\n",
    "    for ber in TQDM_BERS:\n",
    "        \n",
    "        TQDM_BERS.set_description(f'BER={ber}')    \n",
    "        models = []\n",
    "        round_durations = []\n",
    "        \n",
    "        for n_tags in N_TAGS:\n",
    "            # Build and store the model:\n",
    "            model = RoundModel(protocol, n_tags, ber)\n",
    "            models.append(model)\n",
    "            round_durations.append(model.round_duration)\n",
    "        \n",
    "        # Store models for the given BER:\n",
    "        ROUND_MODELS[protocol_name].append(models)\n",
    "        ANALYTIC_ROUND_DURATIONS[protocol_name].append(round_durations)"
   ]
  },
  {
   "cell_type": "markdown",
   "metadata": {},
   "source": [
    "## Сравнение длин слотов\n",
    "\n",
    "Сначала сравним длительности слотов, рассчитанные из аналитической модели и методом Монте-Карло."
   ]
  },
  {
   "cell_type": "code",
   "execution_count": 9,
   "metadata": {},
   "outputs": [
    {
     "name": "stdout",
     "output_type": "stream",
     "text": [
      "\u001b[94m\u001b[0m                           \u001b[94mAnalytic\u001b[0m                \u001b[94mSimulation\u001b[0m              \u001b[94mError\u001b[0m\n",
      "-------------------------  ----------------------  ----------------------  -------\n",
      "\u001b[96m0 tags\u001b[0m\n",
      "\u001b[94mround duration\u001b[0m             0.0036375               0.0036375000000000014   \u001b[92m0.0000\u001b[0m\n",
      "\u001b[94mempty slot duration\u001b[0m        7.5e-05                 7.5e-05                 \u001b[92m0.0000\u001b[0m\n",
      "\u001b[94mcollided slot duration\u001b[0m     0.00019101562500000002  0.00019101562499999997  \u001b[92m0.0000\u001b[0m\n",
      "\u001b[94mreply slot duration\u001b[0m        0.001668374743740638    nan                     \u001b[92mnan\u001b[0m\n",
      "\u001b[94mempty slot probability\u001b[0m     1.0                     1.0                     \u001b[92m0.0000\u001b[0m\n",
      "\u001b[94mcollided slot probability\u001b[0m  0.0                     0.0                     \u001b[92m0.0000\u001b[0m\n",
      "\u001b[94mreply slot probability\u001b[0m     0.0                     0.0                     \u001b[92m0.0000\u001b[0m\n",
      "\u001b[96m1 tag\u001b[0m\n",
      "\u001b[94mround duration\u001b[0m             0.0052308747437406385   0.005216191796875001    \u001b[92m0.0028\u001b[0m\n",
      "\u001b[94mempty slot duration\u001b[0m        7.5e-05                 7.5e-05                 \u001b[92m0.0000\u001b[0m\n",
      "\u001b[94mcollided slot duration\u001b[0m     0.00019101562500000002  0.00019101562499999997  \u001b[92m0.0000\u001b[0m\n",
      "\u001b[94mreply slot duration\u001b[0m        0.001668374743740638    0.0016536917968750001   \u001b[92m0.0089\u001b[0m\n",
      "\u001b[94mempty slot probability\u001b[0m     0.9375                  0.9375                  \u001b[92m0.0000\u001b[0m\n",
      "\u001b[94mcollided slot probability\u001b[0m  0.0                     0.0                     \u001b[92m0.0000\u001b[0m\n",
      "\u001b[94mreply slot probability\u001b[0m     0.0625                  0.0625                  \u001b[92m0.0000\u001b[0m\n",
      "\u001b[96m2 tags\u001b[0m\n",
      "\u001b[94mround duration\u001b[0m             0.00663662764848367     0.006656810742187501    \u001b[92m0.0030\u001b[0m\n",
      "\u001b[94mempty slot duration\u001b[0m        7.5e-05                 7.5e-05                 \u001b[92m0.0000\u001b[0m\n",
      "\u001b[94mcollided slot duration\u001b[0m     0.00019101562500000002  0.00019101562499999997  \u001b[92m0.0000\u001b[0m\n",
      "\u001b[94mreply slot duration\u001b[0m        0.001668374743740638    0.001673217423740053    \u001b[92m0.0029\u001b[0m\n",
      "\u001b[94mempty slot probability\u001b[0m     0.8788187499999999      0.87859375              \u001b[92m0.0003\u001b[0m\n",
      "\u001b[94mcollided slot probability\u001b[0m  0.0038187500000001345   0.00359375              \u001b[92m0.0626\u001b[0m\n",
      "\u001b[94mreply slot probability\u001b[0m     0.1173625               0.1178125               \u001b[92m0.0038\u001b[0m\n",
      "\u001b[96m3 tags\u001b[0m\n",
      "\u001b[94mround duration\u001b[0m             0.007858029023014699    0.007945200390625       \u001b[92m0.0110\u001b[0m\n",
      "\u001b[94mempty slot duration\u001b[0m        7.5e-05                 7.5e-05                 \u001b[92m0.0000\u001b[0m\n",
      "\u001b[94mcollided slot duration\u001b[0m     0.00019101562500000002  0.00019101562499999997  \u001b[92m0.0000\u001b[0m\n",
      "\u001b[94mreply slot duration\u001b[0m        0.001668374743740638    0.0016786724154047488   \u001b[92m0.0061\u001b[0m\n",
      "\u001b[94mempty slot probability\u001b[0m     0.8240250000000001      0.82278125              \u001b[92m0.0015\u001b[0m\n",
      "\u001b[94mcollided slot probability\u001b[0m  0.011243749999999886    0.0100625               \u001b[91m0.1174\u001b[0m\n",
      "\u001b[94mreply slot probability\u001b[0m     0.16473125              0.16715625              \u001b[92m0.0145\u001b[0m\n",
      "\u001b[96m4 tags\u001b[0m\n",
      "\u001b[94mround duration\u001b[0m             0.00894141640255063     0.008925910742187501    \u001b[92m0.0017\u001b[0m\n",
      "\u001b[94mempty slot duration\u001b[0m        7.5e-05                 7.5e-05                 \u001b[92m0.0000\u001b[0m\n",
      "\u001b[94mcollided slot duration\u001b[0m     0.00019101562500000002  0.00019101562499999997  \u001b[92m0.0000\u001b[0m\n",
      "\u001b[94mreply slot duration\u001b[0m        0.001668374743740638    0.0016625038395017392   \u001b[92m0.0035\u001b[0m\n",
      "\u001b[94mempty slot probability\u001b[0m     0.77223125              0.77215625              \u001b[92m0.0001\u001b[0m\n",
      "\u001b[94mcollided slot probability\u001b[0m  0.02127187499999994     0.0211875               \u001b[92m0.0040\u001b[0m\n",
      "\u001b[94mreply slot probability\u001b[0m     0.20649687500000002     0.20665625              \u001b[92m0.0008\u001b[0m\n",
      "\u001b[96m5 tags\u001b[0m\n",
      "\u001b[94mround duration\u001b[0m             0.009840551671316118    0.009824371679687503    \u001b[92m0.0016\u001b[0m\n",
      "\u001b[94mempty slot duration\u001b[0m        7.5e-05                 7.5e-05                 \u001b[92m0.0000\u001b[0m\n",
      "\u001b[94mcollided slot duration\u001b[0m     0.00019101562500000002  0.00019101562499999997  \u001b[92m0.0000\u001b[0m\n",
      "\u001b[94mreply slot duration\u001b[0m        0.001668374743740638    0.0016842681250821719   \u001b[92m0.0094\u001b[0m\n",
      "\u001b[94mempty slot probability\u001b[0m     0.72455                 0.7263125               \u001b[92m0.0024\u001b[0m\n",
      "\u001b[94mcollided slot probability\u001b[0m  0.034659374999999965    0.036                   \u001b[92m0.0372\u001b[0m\n",
      "\u001b[94mreply slot probability\u001b[0m     0.240790625             0.2376875               \u001b[92m0.0131\u001b[0m\n",
      "\u001b[96m6 tags\u001b[0m\n",
      "\u001b[94mround duration\u001b[0m             0.01066052779536396     0.010601389648437501    \u001b[92m0.0056\u001b[0m\n",
      "\u001b[94mempty slot duration\u001b[0m        7.5e-05                 7.5e-05                 \u001b[92m0.0000\u001b[0m\n",
      "\u001b[94mcollided slot duration\u001b[0m     0.00019101562500000002  0.00019101562499999997  \u001b[92m0.0000\u001b[0m\n",
      "\u001b[94mreply slot duration\u001b[0m        0.001668374743740638    0.0016606391340717665   \u001b[92m0.0047\u001b[0m\n",
      "\u001b[94mempty slot probability\u001b[0m     0.67884375              0.6793125               \u001b[92m0.0007\u001b[0m\n",
      "\u001b[94mcollided slot probability\u001b[0m  0.049265625000000035    0.04984375              \u001b[92m0.0116\u001b[0m\n",
      "\u001b[94mreply slot probability\u001b[0m     0.271890625             0.27084375              \u001b[92m0.0039\u001b[0m\n",
      "\u001b[96m7 tags\u001b[0m\n",
      "\u001b[94mround duration\u001b[0m             0.01133795886575923     0.011362814648437499    \u001b[92m0.0022\u001b[0m\n",
      "\u001b[94mempty slot duration\u001b[0m        7.5e-05                 7.5e-05                 \u001b[92m0.0000\u001b[0m\n",
      "\u001b[94mcollided slot duration\u001b[0m     0.00019101562500000002  0.00019101562499999997  \u001b[92m0.0000\u001b[0m\n",
      "\u001b[94mreply slot duration\u001b[0m        0.001668374743740638    0.001666786121977706    \u001b[92m0.0010\u001b[0m\n",
      "\u001b[94mempty slot probability\u001b[0m     0.63635                 0.6360625               \u001b[92m0.0005\u001b[0m\n",
      "\u001b[94mcollided slot probability\u001b[0m  0.06643750000000004     0.065375                \u001b[92m0.0163\u001b[0m\n",
      "\u001b[94mreply slot probability\u001b[0m     0.2972125               0.2985625               \u001b[92m0.0045\u001b[0m\n",
      "\u001b[96m8 tags\u001b[0m\n",
      "\u001b[94mround duration\u001b[0m             0.011922471303028497    0.011907042578125       \u001b[92m0.0013\u001b[0m\n",
      "\u001b[94mempty slot duration\u001b[0m        7.5e-05                 7.5e-05                 \u001b[92m0.0000\u001b[0m\n",
      "\u001b[94mcollided slot duration\u001b[0m     0.00019101562500000002  0.00019101562499999997  \u001b[92m0.0000\u001b[0m\n",
      "\u001b[94mreply slot duration\u001b[0m        0.001668374743740638    0.0016581408856961657   \u001b[92m0.0062\u001b[0m\n",
      "\u001b[94mempty slot probability\u001b[0m     0.596359375             0.59528125              \u001b[92m0.0018\u001b[0m\n",
      "\u001b[94mcollided slot probability\u001b[0m  0.08484062499999995     0.0844375               \u001b[92m0.0048\u001b[0m\n",
      "\u001b[94mreply slot probability\u001b[0m     0.31880000000000003     0.32028125              \u001b[92m0.0046\u001b[0m\n",
      "\u001b[96m9 tags\u001b[0m\n",
      "\u001b[94mround duration\u001b[0m             0.012386542975834114    0.012302689843749999    \u001b[92m0.0068\u001b[0m\n",
      "\u001b[94mempty slot duration\u001b[0m        7.5e-05                 7.5e-05                 \u001b[92m0.0000\u001b[0m\n",
      "\u001b[94mcollided slot duration\u001b[0m     0.00019101562500000002  0.00019101562499999997  \u001b[92m0.0000\u001b[0m\n",
      "\u001b[94mreply slot duration\u001b[0m        0.001668374743740638    0.001656578985760971    \u001b[92m0.0071\u001b[0m\n",
      "\u001b[94mempty slot probability\u001b[0m     0.5594125000000001      0.5598125               \u001b[92m0.0007\u001b[0m\n",
      "\u001b[94mcollided slot probability\u001b[0m  0.1050562499999999      0.1055                  \u001b[92m0.0042\u001b[0m\n",
      "\u001b[94mreply slot probability\u001b[0m     0.33553125              0.3346875               \u001b[92m0.0025\u001b[0m\n",
      "\u001b[96m10 tags\u001b[0m\n",
      "\u001b[94mround duration\u001b[0m             0.012795301271786626    0.012817418164062499    \u001b[92m0.0017\u001b[0m\n",
      "\u001b[94mempty slot duration\u001b[0m        7.5e-05                 7.5e-05                 \u001b[92m0.0000\u001b[0m\n",
      "\u001b[94mcollided slot duration\u001b[0m     0.00019101562500000002  0.00019101562499999997  \u001b[92m0.0000\u001b[0m\n",
      "\u001b[94mreply slot duration\u001b[0m        0.001668374743740638    0.001673759117259405    \u001b[92m0.0032\u001b[0m\n",
      "\u001b[94mempty slot probability\u001b[0m     0.52405                 0.5241875               \u001b[92m0.0003\u001b[0m\n",
      "\u001b[94mcollided slot probability\u001b[0m  0.125903125             0.12609375              \u001b[92m0.0015\u001b[0m\n",
      "\u001b[94mreply slot probability\u001b[0m     0.350046875             0.34971875              \u001b[92m0.0009\u001b[0m\n",
      "\u001b[96m11 tags\u001b[0m\n",
      "\u001b[94mround duration\u001b[0m             0.013119379340990585    0.012979954882812502    \u001b[92m0.0107\u001b[0m\n",
      "\u001b[94mempty slot duration\u001b[0m        7.5e-05                 7.5e-05                 \u001b[92m0.0000\u001b[0m\n",
      "\u001b[94mcollided slot duration\u001b[0m     0.00019101562500000002  0.00019101562499999997  \u001b[92m0.0000\u001b[0m\n",
      "\u001b[94mreply slot duration\u001b[0m        0.001668374743740638    0.0016551568149886732   \u001b[92m0.0080\u001b[0m\n",
      "\u001b[94mempty slot probability\u001b[0m     0.49120937499999995     0.49334375              \u001b[92m0.0043\u001b[0m\n",
      "\u001b[94mcollided slot probability\u001b[0m  0.14761250000000004     0.148                   \u001b[92m0.0026\u001b[0m\n",
      "\u001b[94mreply slot probability\u001b[0m     0.361178125             0.35865625              \u001b[92m0.0070\u001b[0m\n",
      "\u001b[96m12 tags\u001b[0m\n",
      "\u001b[94mround duration\u001b[0m             0.01338318680127209     0.01349446875           \u001b[92m0.0082\u001b[0m\n",
      "\u001b[94mempty slot duration\u001b[0m        7.5e-05                 7.5e-05                 \u001b[92m0.0000\u001b[0m\n",
      "\u001b[94mcollided slot duration\u001b[0m     0.00019101562500000002  0.00019101562499999997  \u001b[92m0.0000\u001b[0m\n",
      "\u001b[94mreply slot duration\u001b[0m        0.001668374743740638    0.0016964566225992183   \u001b[92m0.0166\u001b[0m\n",
      "\u001b[94mempty slot probability\u001b[0m     0.46031562499999995     0.4614375               \u001b[92m0.0024\u001b[0m\n",
      "\u001b[94mcollided slot probability\u001b[0m  0.16977187500000002     0.17084375              \u001b[92m0.0063\u001b[0m\n",
      "\u001b[94mreply slot probability\u001b[0m     0.3699125               0.36771875              \u001b[92m0.0060\u001b[0m\n",
      "\u001b[96m13 tags\u001b[0m\n",
      "\u001b[94mround duration\u001b[0m             0.01357443682662028     0.013632189453125       \u001b[92m0.0042\u001b[0m\n",
      "\u001b[94mempty slot duration\u001b[0m        7.5e-05                 7.5e-05                 \u001b[92m0.0000\u001b[0m\n",
      "\u001b[94mcollided slot duration\u001b[0m     0.00019101562500000002  0.00019101562499999997  \u001b[92m0.0000\u001b[0m\n",
      "\u001b[94mreply slot duration\u001b[0m        0.001668374743740638    0.0016740944513877363   \u001b[92m0.0034\u001b[0m\n",
      "\u001b[94mempty slot probability\u001b[0m     0.431421875             0.43021875              \u001b[92m0.0028\u001b[0m\n",
      "\u001b[94mcollided slot probability\u001b[0m  0.19284374999999992     0.19315625              \u001b[92m0.0016\u001b[0m\n",
      "\u001b[94mreply slot probability\u001b[0m     0.375734375             0.376625                \u001b[92m0.0024\u001b[0m\n",
      "\u001b[96m14 tags\u001b[0m\n",
      "\u001b[94mround duration\u001b[0m             0.013648786386748856    0.0138854529296875      \u001b[92m0.0170\u001b[0m\n",
      "\u001b[94mempty slot duration\u001b[0m        7.5e-05                 7.5e-05                 \u001b[92m0.0000\u001b[0m\n",
      "\u001b[94mcollided slot duration\u001b[0m     0.00019101562500000002  0.00019101562499999997  \u001b[92m0.0000\u001b[0m\n",
      "\u001b[94mreply slot duration\u001b[0m        0.001668374743740638    0.0016888192395935757   \u001b[92m0.0121\u001b[0m\n",
      "\u001b[94mempty slot probability\u001b[0m     0.4060125               0.40290625              \u001b[92m0.0077\u001b[0m\n",
      "\u001b[94mcollided slot probability\u001b[0m  0.21710312500000006     0.21571875              \u001b[92m0.0064\u001b[0m\n",
      "\u001b[94mreply slot probability\u001b[0m     0.37688437499999994     0.381375                \u001b[92m0.0118\u001b[0m\n",
      "\u001b[96m15 tags\u001b[0m\n",
      "\u001b[94mround duration\u001b[0m             0.013746610832761979    0.01380827265625        \u001b[92m0.0045\u001b[0m\n",
      "\u001b[94mempty slot duration\u001b[0m        7.5e-05                 7.5e-05                 \u001b[92m0.0000\u001b[0m\n",
      "\u001b[94mcollided slot duration\u001b[0m     0.00019101562500000002  0.00019101562499999997  \u001b[92m0.0000\u001b[0m\n",
      "\u001b[94mreply slot duration\u001b[0m        0.001668374743740638    0.00167414117110403     \u001b[92m0.0034\u001b[0m\n",
      "\u001b[94mempty slot probability\u001b[0m     0.38025312499999997     0.37865625              \u001b[92m0.0042\u001b[0m\n",
      "\u001b[94mcollided slot probability\u001b[0m  0.24074687500000003     0.24134375              \u001b[92m0.0025\u001b[0m\n",
      "\u001b[94mreply slot probability\u001b[0m     0.379                   0.38                    \u001b[92m0.0026\u001b[0m\n",
      "\u001b[96m16 tags\u001b[0m\n",
      "\u001b[94mround duration\u001b[0m             0.013815382547347762    0.014005307226562501    \u001b[92m0.0136\u001b[0m\n",
      "\u001b[94mempty slot duration\u001b[0m        7.5e-05                 7.5e-05                 \u001b[92m0.0000\u001b[0m\n",
      "\u001b[94mcollided slot duration\u001b[0m     0.00019101562500000002  0.00019101562499999997  \u001b[92m0.0000\u001b[0m\n",
      "\u001b[94mreply slot duration\u001b[0m        0.001668374743740638    0.001681542095259392    \u001b[92m0.0078\u001b[0m\n",
      "\u001b[94mempty slot probability\u001b[0m     0.3561375               0.35215625              \u001b[92m0.0113\u001b[0m\n",
      "\u001b[94mcollided slot probability\u001b[0m  0.26384687500000004     0.26353125              \u001b[92m0.0012\u001b[0m\n",
      "\u001b[94mreply slot probability\u001b[0m     0.38001562499999997     0.3843125               \u001b[92m0.0112\u001b[0m\n",
      "\u001b[96m17 tags\u001b[0m\n",
      "\u001b[94mround duration\u001b[0m             0.013844349633286287    0.013949335742187501    \u001b[92m0.0075\u001b[0m\n",
      "\u001b[94mempty slot duration\u001b[0m        7.5e-05                 7.5e-05                 \u001b[92m0.0000\u001b[0m\n",
      "\u001b[94mcollided slot duration\u001b[0m     0.00019101562500000002  0.00019101562499999997  \u001b[92m0.0000\u001b[0m\n",
      "\u001b[94mreply slot duration\u001b[0m        0.001668374743740638    0.0016865277341497078   \u001b[92m0.0108\u001b[0m\n",
      "\u001b[94mempty slot probability\u001b[0m     0.33325                 0.33396875              \u001b[92m0.0022\u001b[0m\n",
      "\u001b[94mcollided slot probability\u001b[0m  0.28730624999999993     0.28675                 \u001b[92m0.0019\u001b[0m\n",
      "\u001b[94mreply slot probability\u001b[0m     0.37944375              0.37928125              \u001b[92m0.0004\u001b[0m\n",
      "\u001b[96m18 tags\u001b[0m\n",
      "\u001b[94mround duration\u001b[0m             0.013817349834431074    0.013684825390625       \u001b[92m0.0097\u001b[0m\n",
      "\u001b[94mempty slot duration\u001b[0m        7.5e-05                 7.5e-05                 \u001b[92m0.0000\u001b[0m\n",
      "\u001b[94mcollided slot duration\u001b[0m     0.00019101562500000002  0.00019101562499999997  \u001b[92m0.0000\u001b[0m\n",
      "\u001b[94mreply slot duration\u001b[0m        0.001668374743740638    0.0016580159124163878   \u001b[92m0.0062\u001b[0m\n",
      "\u001b[94mempty slot probability\u001b[0m     0.31269687500000004     0.3133125               \u001b[92m0.0020\u001b[0m\n",
      "\u001b[94mcollided slot probability\u001b[0m  0.31061562499999995     0.3129375               \u001b[92m0.0074\u001b[0m\n",
      "\u001b[94mreply slot probability\u001b[0m     0.37668749999999995     0.37375                 \u001b[92m0.0079\u001b[0m\n",
      "\u001b[96m19 tags\u001b[0m\n",
      "\u001b[94mround duration\u001b[0m             0.0137392165159843      0.013817757031250003    \u001b[92m0.0057\u001b[0m\n",
      "\u001b[94mempty slot duration\u001b[0m        7.5e-05                 7.5e-05                 \u001b[92m0.0000\u001b[0m\n",
      "\u001b[94mcollided slot duration\u001b[0m     0.00019101562500000002  0.00019101562499999997  \u001b[92m0.0000\u001b[0m\n",
      "\u001b[94mreply slot duration\u001b[0m        0.001668374743740638    0.0016756876975033482   \u001b[92m0.0044\u001b[0m\n",
      "\u001b[94mempty slot probability\u001b[0m     0.2931875               0.29303125              \u001b[92m0.0005\u001b[0m\n",
      "\u001b[94mcollided slot probability\u001b[0m  0.33496250000000005     0.33365625              \u001b[92m0.0039\u001b[0m\n",
      "\u001b[94mreply slot probability\u001b[0m     0.37185                 0.3733125               \u001b[92m0.0039\u001b[0m\n",
      "\u001b[96m20 tags\u001b[0m\n",
      "\u001b[94mround duration\u001b[0m             0.013657293675060656    0.013685129687500002    \u001b[92m0.0020\u001b[0m\n",
      "\u001b[94mempty slot duration\u001b[0m        7.5e-05                 7.5e-05                 \u001b[92m0.0000\u001b[0m\n",
      "\u001b[94mcollided slot duration\u001b[0m     0.00019101562500000002  0.00019101562499999997  \u001b[92m0.0000\u001b[0m\n",
      "\u001b[94mreply slot duration\u001b[0m        0.001668374743740638    0.0016663281117506147   \u001b[92m0.0012\u001b[0m\n",
      "\u001b[94mempty slot probability\u001b[0m     0.2751625               0.2735625               \u001b[92m0.0058\u001b[0m\n",
      "\u001b[94mcollided slot probability\u001b[0m  0.35786875000000007     0.35790625              \u001b[92m0.0001\u001b[0m\n",
      "\u001b[94mreply slot probability\u001b[0m     0.36696874999999995     0.36853125              \u001b[92m0.0042\u001b[0m\n"
     ]
    }
   ],
   "source": [
    "# Compare slots durations estimated with Monte-Carlo method and analytic approach\n",
    "BER_INDEX = -2\n",
    "PROTOCOL_NAME = 'tid'\n",
    "\n",
    "rows = []\n",
    "for i, n_tags in enumerate(N_TAGS):\n",
    "    rounds_model = ROUND_MODELS[PROTOCOL_NAME][BER_INDEX][i]\n",
    "    estimated_round_duration = ESTIMATED_ROUND_DURATIONS[PROTOCOL_NAME][BER_INDEX][i]\n",
    "    estiamted_slots_durations = ESTIMATED_SLOTS_DURATIONS[PROTOCOL_NAME][BER_INDEX][i]\n",
    "    estimated_slots_counts = ESTIMATED_SLOTS_COUNTS[PROTOCOL_NAME][BER_INDEX][i]\n",
    "\n",
    "    # Compute slot probabilities:\n",
    "    estimated_slots_probs = SlotValues(\n",
    "        empty=(estimated_slots_counts.empty / protocol.props.n_slots),\n",
    "        collided=(estimated_slots_counts.collided / protocol.props.n_slots),\n",
    "        reply=(estimated_slots_counts.reply / protocol.props.n_slots))\n",
    "    \n",
    "    # Build table rows:\n",
    "    value_rows = [\n",
    "        [fmt_header('round duration'), rounds_model.round_duration, estimated_round_duration],\n",
    "        [fmt_header('empty slot duration'), rounds_model.slots.durations.empty, estiamted_slots_durations.empty],\n",
    "        [fmt_header('collided slot duration'), rounds_model.slots.durations.collided, estiamted_slots_durations.collided],\n",
    "        [fmt_header('reply slot duration'), rounds_model.slots.durations.reply, estiamted_slots_durations.reply],\n",
    "        [fmt_header('empty slot probability'), rounds_model.slots.probs.empty, estimated_slots_probs.empty],\n",
    "        [fmt_header('collided slot probability'), rounds_model.slots.probs.collided, estimated_slots_probs.collided],\n",
    "        [fmt_header('reply slot probability'), rounds_model.slots.probs.reply, estimated_slots_probs.reply],\n",
    "    ]\n",
    "\n",
    "    # Append errors estimations to each row:\n",
    "    for row in value_rows:\n",
    "        row.append(fmt_err(row[-1], row[-2]))\n",
    "    \n",
    "    # Add rows to the main table:\n",
    "    title_row = [fmt_delim(f'{n_tags} tag{pluralize(n_tags)}')] + [''] * 3\n",
    "    rows.append(title_row)\n",
    "    rows.extend(value_rows)\n",
    "\n",
    "headers = [fmt_header(s) for s in ['', 'Analytic', 'Simulation', 'Error']]\n",
    "print(tabulate(rows, headers=headers))"
   ]
  },
  {
   "cell_type": "markdown",
   "metadata": {},
   "source": [
    "## Сравнение длительностей раундов"
   ]
  },
  {
   "cell_type": "code",
   "execution_count": 10,
   "metadata": {},
   "outputs": [
    {
     "data": {
      "image/png": "[encoded data removed]",
      "text/plain": [
       "<Figure size 864x288 with 2 Axes>"
      ]
     },
     "metadata": {
      "needs_background": "light"
     },
     "output_type": "display_data"
    }
   ],
   "source": [
    "fig, (ax1, ax2) = plt.subplots(figsize=(12, 4), nrows=1, ncols=2)\n",
    "MARKERS = ['X', 'd', 'o', \"s\", 'v']\n",
    "LINES = ['-', '-', '-', '-']\n",
    "\n",
    "for i, ber in enumerate(BER):\n",
    "    color = get_color(i/len(BER) * 0.8 + 0.1)\n",
    "    marker = MARKERS[i % len(MARKERS)]\n",
    "    linestyle = LINES[i % len(LINES)]\n",
    "    ax1.plot(N_TAGS, ESTIMATED_ROUND_DURATIONS['epcid'][i], \n",
    "             label=f'BER={ber}, Монте-Карло', marker=marker, \n",
    "             color=color, linestyle=\"None\", markersize=8)\n",
    "    ax1.plot(N_TAGS, ANALYTIC_ROUND_DURATIONS['epcid'][i], \n",
    "             label=f'BER={ber}, аналитика', color=color, linestyle=linestyle,\n",
    "             linewidth=2)\n",
    "    ax2.plot(N_TAGS, ESTIMATED_ROUND_DURATIONS['tid'][i], \n",
    "             label=f'BER={ber}, Монте-Карло', marker=marker, color=color, \n",
    "             linestyle=\"None\", markersize=8)\n",
    "    ax2.plot(N_TAGS, ANALYTIC_ROUND_DURATIONS['tid'][i], \n",
    "             label=f'BER={ber}, аналитика', color=color, linestyle=linestyle,\n",
    "             linewidth=2)\n",
    "\n",
    "lgd = fig.legend(*ax1.get_legend_handles_labels(), loc='lower center', \n",
    "               bbox_to_anchor=(0.5, -0.29), ncol=3)\n",
    "\n",
    "ax1.set_title('Чтение EPCID')\n",
    "ax2.set_title('Чтение TID')\n",
    "# fig.suptitle('Round durations')\n",
    "for ax in (ax1, ax2):\n",
    "    ax.grid()\n",
    "    ax.set_xlabel('Число меток')\n",
    "    ax.set_ylabel(f'Длительность, сек.')\n",
    "plt.tight_layout()\n",
    "savefig(\"ch3_round_durations_validation\")\n",
    "# plt.savefig('images/round_durations_validation.pdf', bbox_extra_artists=(lgd,), bbox_inches='tight')"
   ]
  },
  {
   "cell_type": "markdown",
   "metadata": {},
   "source": [
    "## Экспериментальный код"
   ]
  },
  {
   "cell_type": "code",
   "execution_count": null,
   "metadata": {},
   "outputs": [],
   "source": []
  }
 ],
 "metadata": {
  "kernelspec": {
   "display_name": "Python 3",
   "language": "python",
   "name": "python3"
  },
  "language_info": {
   "codemirror_mode": {
    "name": "ipython",
    "version": 3
   },
   "file_extension": ".py",
   "mimetype": "text/x-python",
   "name": "python",
   "nbconvert_exporter": "python",
   "pygments_lexer": "ipython3",
   "version": "3.8.10"
  }
 },
 "nbformat": 4,
 "nbformat_minor": 4
}
