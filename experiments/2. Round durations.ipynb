{
 "cells": [
  {
   "cell_type": "markdown",
   "metadata": {},
   "source": [
    "# Валидация расчета длительностей раундов\n",
    "\n",
    "В этом ноутбуке найдем и сравним оценки длительностей раундов при заданной вероятности битовой ошибки (BER) с помощью метода Монте-Карло и аналитической модели, построенной на урновой схеме."
   ]
  },
  {
   "cell_type": "code",
   "execution_count": 2,
   "metadata": {},
   "outputs": [],
   "source": [
    "%load_ext autoreload\n",
    "%autoreload 2"
   ]
  },
  {
   "cell_type": "code",
   "execution_count": 3,
   "metadata": {},
   "outputs": [],
   "source": [
    "from rfidam.inventory import RoundModel, SlotModel, estimate_rounds_props, SlotValues\n",
    "from rfidam.protocol.protocol import Protocol, LinkProps\n",
    "from rfidam.utils import bcolors, get_err, fmt_err, highlight, pluralize\n",
    "from rfidam.protocol.symbols import TagEncoding, DR\n",
    "\n",
    "from tabulate import tabulate\n",
    "from tqdm.notebook import tqdm\n",
    "import numpy as np\n",
    "import matplotlib.pyplot as plt\n",
    "import matplotlib as mpl\n",
    "from itertools import product\n",
    "\n",
    "from utility.jupyter_helpers import savefig, get_color, setup_matplotlib"
   ]
  },
  {
   "cell_type": "code",
   "execution_count": 4,
   "metadata": {},
   "outputs": [],
   "source": [
    "%matplotlib inline\n",
    "# Настроим Matplotlib: выберем цветовую схему и сделаем шрифты крупнее\n",
    "setup_matplotlib()"
   ]
  },
  {
   "cell_type": "markdown",
   "metadata": {},
   "source": [
    "Определим вспомогательные методы для однотипной подстветки таблиц и форматирования строк."
   ]
  },
  {
   "cell_type": "code",
   "execution_count": 5,
   "metadata": {},
   "outputs": [],
   "source": [
    "def fmt_header(s):\n",
    "    return highlight(s, bcolors.OKBLUE)\n",
    "\n",
    "def fmt_delim(s):\n",
    "    return highlight(s, bcolors.OKCYAN)\n",
    "\n",
    "def fmt_float(x):\n",
    "    return f'{x:.4f}'"
   ]
  },
  {
   "cell_type": "markdown",
   "metadata": {},
   "source": [
    "## Параметры модели\n",
    "\n",
    "Определим два сценария идентификации меток:\n",
    "\n",
    "- идентификация по EPCID\n",
    "- идентификация по TID и EPCID\n",
    "\n",
    "В обоих случаях будем использовать идентичные настройки протокола:\n",
    "\n",
    "- `Tari = 12.5us`\n",
    "- `RTcal = 37.5us`\n",
    "- `TRcal = 50us`\n",
    "- `DR = 64/3`\n",
    "- `TRext = 0`\n",
    "- `Q = 4`\n",
    "- `M = 2`\n",
    "\n",
    "Также будем считать, что длина EPCID равна 12 байтам, а TID - 8 байтам (4 словам)."
   ]
  },
  {
   "cell_type": "code",
   "execution_count": 6,
   "metadata": {},
   "outputs": [],
   "source": [
    "PROTOCOL_SETTINGS = {\n",
    "    'tari': 12.5e-6,\n",
    "    'rtcal': 37.5e-6,\n",
    "    'trcal': 50e-6,\n",
    "    'm': TagEncoding.M2,\n",
    "    'dr': DR.DR_643,\n",
    "    'trext': False,\n",
    "    'q': 4,\n",
    "    't_off': 0.1,\n",
    "    'n_epcid_bytes': 12,\n",
    "    'n_data_words': 4\n",
    "}\n",
    "\n",
    "LINK_PROPS = {\n",
    "    'epcid': LinkProps(**PROTOCOL_SETTINGS, use_tid=False),\n",
    "    'tid': LinkProps(**PROTOCOL_SETTINGS, use_tid=True)\n",
    "}\n",
    "\n",
    "PROTOCOLS = {key: Protocol(LINK_PROPS[key]) for key in LINK_PROPS}"
   ]
  },
  {
   "cell_type": "markdown",
   "metadata": {},
   "source": [
    "Число меток будем брать из множества $N = 0, 1, 2, 3, 4, 10, 20$."
   ]
  },
  {
   "cell_type": "code",
   "execution_count": 7,
   "metadata": {},
   "outputs": [],
   "source": [
    "N_TAGS = np.arange(21)\n",
    "BER = [.001, .005, .01, .02]"
   ]
  },
  {
   "cell_type": "markdown",
   "metadata": {},
   "source": [
    "## Вычисление параметров раундов методом Монте-Карло\n",
    "\n",
    "Рассчитаем длины слотов и раундов методом Монте-Карло. Для этого будем моделировать процесс идентификации меток, собирать длительности слотов без ответов меток, слотов с попытками ответа одной метки и слотов с коллизиями."
   ]
  },
  {
   "cell_type": "code",
   "execution_count": 8,
   "metadata": {},
   "outputs": [
    {
     "data": {
      "application/vnd.jupyter.widget-view+json": {
       "model_id": "9ce05be6a5d948c4817e233c36d1c73e",
       "version_major": 2,
       "version_minor": 0
      },
      "text/plain": [
       "  0%|          | 0/2 [00:00<?, ?it/s]"
      ]
     },
     "metadata": {},
     "output_type": "display_data"
    },
    {
     "data": {
      "application/vnd.jupyter.widget-view+json": {
       "model_id": "",
       "version_major": 2,
       "version_minor": 0
      },
      "text/plain": [
       "  0%|          | 0/4 [00:00<?, ?it/s]"
      ]
     },
     "metadata": {},
     "output_type": "display_data"
    },
    {
     "data": {
      "application/vnd.jupyter.widget-view+json": {
       "model_id": "",
       "version_major": 2,
       "version_minor": 0
      },
      "text/plain": [
       "  0%|          | 0/21 [00:00<?, ?it/s]"
      ]
     },
     "metadata": {},
     "output_type": "display_data"
    },
    {
     "data": {
      "application/vnd.jupyter.widget-view+json": {
       "model_id": "",
       "version_major": 2,
       "version_minor": 0
      },
      "text/plain": [
       "  0%|          | 0/21 [00:00<?, ?it/s]"
      ]
     },
     "metadata": {},
     "output_type": "display_data"
    },
    {
     "data": {
      "application/vnd.jupyter.widget-view+json": {
       "model_id": "",
       "version_major": 2,
       "version_minor": 0
      },
      "text/plain": [
       "  0%|          | 0/21 [00:00<?, ?it/s]"
      ]
     },
     "metadata": {},
     "output_type": "display_data"
    },
    {
     "data": {
      "application/vnd.jupyter.widget-view+json": {
       "model_id": "",
       "version_major": 2,
       "version_minor": 0
      },
      "text/plain": [
       "  0%|          | 0/21 [00:00<?, ?it/s]"
      ]
     },
     "metadata": {},
     "output_type": "display_data"
    },
    {
     "data": {
      "application/vnd.jupyter.widget-view+json": {
       "model_id": "",
       "version_major": 2,
       "version_minor": 0
      },
      "text/plain": [
       "  0%|          | 0/4 [00:00<?, ?it/s]"
      ]
     },
     "metadata": {},
     "output_type": "display_data"
    },
    {
     "data": {
      "application/vnd.jupyter.widget-view+json": {
       "model_id": "",
       "version_major": 2,
       "version_minor": 0
      },
      "text/plain": [
       "  0%|          | 0/21 [00:00<?, ?it/s]"
      ]
     },
     "metadata": {},
     "output_type": "display_data"
    },
    {
     "data": {
      "application/vnd.jupyter.widget-view+json": {
       "model_id": "",
       "version_major": 2,
       "version_minor": 0
      },
      "text/plain": [
       "  0%|          | 0/21 [00:00<?, ?it/s]"
      ]
     },
     "metadata": {},
     "output_type": "display_data"
    },
    {
     "data": {
      "application/vnd.jupyter.widget-view+json": {
       "model_id": "",
       "version_major": 2,
       "version_minor": 0
      },
      "text/plain": [
       "  0%|          | 0/21 [00:00<?, ?it/s]"
      ]
     },
     "metadata": {},
     "output_type": "display_data"
    },
    {
     "data": {
      "application/vnd.jupyter.widget-view+json": {
       "model_id": "",
       "version_major": 2,
       "version_minor": 0
      },
      "text/plain": [
       "  0%|          | 0/21 [00:00<?, ?it/s]"
      ]
     },
     "metadata": {},
     "output_type": "display_data"
    }
   ],
   "source": [
    "# We will store values for each protocol in matrices,\n",
    "# where rows correspond to different BER values and columns - number of tags:\n",
    "\n",
    "ESTIMATED_ROUND_DURATIONS = {key: [] for key in PROTOCOLS}\n",
    "ESTIMATED_SLOTS_DURATIONS = {key: [] for key in PROTOCOLS}\n",
    "ESTIMATED_SLOTS_COUNTS = {key: [] for key in PROTOCOLS}\n",
    "\n",
    "TQDM_PROTOCOLS = tqdm(PROTOCOLS)\n",
    "\n",
    "for protocol_name in TQDM_PROTOCOLS:\n",
    "    \n",
    "    TQDM_PROTOCOLS.set_description(protocol_name)\n",
    "    TQDM_BER = tqdm(BER, leave=False)\n",
    "    protocol = PROTOCOLS[protocol_name]\n",
    "\n",
    "    for ber in TQDM_BER:\n",
    "        \n",
    "        TQDM_BER.set_description(f'BER={ber}')\n",
    "        estimated_round_durations = []\n",
    "        estimated_slots_durations = []\n",
    "        estimated_slots_counts = []\n",
    "        TQDM_TAGS = tqdm(N_TAGS, leave=False)\n",
    "        \n",
    "        for n_tags in TQDM_TAGS:\n",
    "            TQDM_TAGS.set_description(f'{n_tags} tags')\n",
    "            \n",
    "            # Run Monte-Carlo:\n",
    "            round_duration, slots_durations, slots_counts = \\\n",
    "                estimate_rounds_props(protocol, n_tags, ber, n_iters=range(2000))\n",
    "            \n",
    "            estimated_round_durations.append(round_duration)\n",
    "            estimated_slots_durations.append(slots_durations)\n",
    "            estimated_slots_counts.append(slots_counts)\n",
    "        \n",
    "        # Store results:\n",
    "        ESTIMATED_ROUND_DURATIONS[protocol_name].append(estimated_round_durations)\n",
    "        ESTIMATED_SLOTS_DURATIONS[protocol_name].append(estimated_slots_durations)\n",
    "        ESTIMATED_SLOTS_COUNTS[protocol_name].append(estimated_slots_counts)"
   ]
  },
  {
   "cell_type": "markdown",
   "metadata": {},
   "source": [
    "## Вычисление параметров раундов с помощью аналитической модели\n",
    "\n",
    "Теперь вычислим длительности раундов и слотов с помощью аналитической модели. Эта модель использует урновую схему (см. `rfidam.baskets`) для расчета среднего количества пустых слотов, слотов с одним ответом и слотов с коллизиями."
   ]
  },
  {
   "cell_type": "code",
   "execution_count": 9,
   "metadata": {},
   "outputs": [
    {
     "data": {
      "application/vnd.jupyter.widget-view+json": {
       "model_id": "a77720739d864adab309e856b488b059",
       "version_major": 2,
       "version_minor": 0
      },
      "text/plain": [
       "  0%|          | 0/2 [00:00<?, ?it/s]"
      ]
     },
     "metadata": {},
     "output_type": "display_data"
    },
    {
     "data": {
      "application/vnd.jupyter.widget-view+json": {
       "model_id": "",
       "version_major": 2,
       "version_minor": 0
      },
      "text/plain": [
       "  0%|          | 0/4 [00:00<?, ?it/s]"
      ]
     },
     "metadata": {},
     "output_type": "display_data"
    },
    {
     "data": {
      "application/vnd.jupyter.widget-view+json": {
       "model_id": "",
       "version_major": 2,
       "version_minor": 0
      },
      "text/plain": [
       "  0%|          | 0/4 [00:00<?, ?it/s]"
      ]
     },
     "metadata": {},
     "output_type": "display_data"
    }
   ],
   "source": [
    "# As above, we store models in dictionaries with the same keys sets as protocols.\n",
    "# At each key, we store a matrix, in which:\n",
    "# - rows correspond to BER values\n",
    "# - columns correspond to different numbers of tags\n",
    "ROUND_MODELS = {key: [] for key in PROTOCOLS}\n",
    "\n",
    "# Also store round durations separately.\n",
    "# We do so, since `round_durations` property is cached, so calling it will run estimation.\n",
    "ANALYTIC_ROUND_DURATIONS = {key: [] for key in PROTOCOLS}\n",
    "\n",
    "TQDM_PROTOCOLS = tqdm(PROTOCOLS)\n",
    "for protocol_name in TQDM_PROTOCOLS:\n",
    "    \n",
    "    TQDM_PROTOCOLS.set_description(protocol_name)\n",
    "    TQDM_BERS = tqdm(BER, leave=False)\n",
    "    protocol = PROTOCOLS[protocol_name]\n",
    "\n",
    "    for ber in TQDM_BERS:\n",
    "        \n",
    "        TQDM_BERS.set_description(f'BER={ber}')    \n",
    "        models = []\n",
    "        round_durations = []\n",
    "        \n",
    "        for n_tags in N_TAGS:\n",
    "            # Build and store the model:\n",
    "            model = RoundModel(protocol, n_tags, ber)\n",
    "            models.append(model)\n",
    "            round_durations.append(model.round_duration)\n",
    "        \n",
    "        # Store models for the given BER:\n",
    "        ROUND_MODELS[protocol_name].append(models)\n",
    "        ANALYTIC_ROUND_DURATIONS[protocol_name].append(round_durations)"
   ]
  },
  {
   "cell_type": "markdown",
   "metadata": {},
   "source": [
    "## Сравнение длин слотов\n",
    "\n",
    "Сначала сравним длительности слотов, рассчитанные из аналитической модели и методом Монте-Карло."
   ]
  },
  {
   "cell_type": "code",
   "execution_count": 10,
   "metadata": {},
   "outputs": [
    {
     "name": "stdout",
     "output_type": "stream",
     "text": [
      "\u001b[94m\u001b[0m                           \u001b[94mAnalytic\u001b[0m                \u001b[94mSimulation\u001b[0m              \u001b[94mError\u001b[0m\n",
      "-------------------------  ----------------------  ----------------------  -------\n",
      "\u001b[96m0 tags\u001b[0m\n",
      "\u001b[94mround duration\u001b[0m             0.0036375               0.0036375000000000014   \u001b[92m0.0000\u001b[0m\n",
      "\u001b[94mempty slot duration\u001b[0m        7.5e-05                 7.5e-05                 \u001b[92m0.0000\u001b[0m\n",
      "\u001b[94mcollided slot duration\u001b[0m     0.00019101562500000002  0.00019101562499999997  \u001b[92m0.0000\u001b[0m\n",
      "\u001b[94mreply slot duration\u001b[0m        0.001668374743740638    nan                     \u001b[92mnan\u001b[0m\n",
      "\u001b[94mempty slot probability\u001b[0m     1.0                     1.0                     \u001b[92m0.0000\u001b[0m\n",
      "\u001b[94mcollided slot probability\u001b[0m  0.0                     0.0                     \u001b[92m0.0000\u001b[0m\n",
      "\u001b[94mreply slot probability\u001b[0m     0.0                     0.0                     \u001b[92m0.0000\u001b[0m\n",
      "\u001b[96m1 tag\u001b[0m\n",
      "\u001b[94mround duration\u001b[0m             0.0052308747437406385   0.005230013476562501    \u001b[92m0.0002\u001b[0m\n",
      "\u001b[94mempty slot duration\u001b[0m        7.5e-05                 7.5e-05                 \u001b[92m0.0000\u001b[0m\n",
      "\u001b[94mcollided slot duration\u001b[0m     0.00019101562500000002  0.00019101562499999997  \u001b[92m0.0000\u001b[0m\n",
      "\u001b[94mreply slot duration\u001b[0m        0.001668374743740638    0.0016675134765625002   \u001b[92m0.0005\u001b[0m\n",
      "\u001b[94mempty slot probability\u001b[0m     0.9375                  0.9375                  \u001b[92m0.0000\u001b[0m\n",
      "\u001b[94mcollided slot probability\u001b[0m  0.0                     0.0                     \u001b[92m0.0000\u001b[0m\n",
      "\u001b[94mreply slot probability\u001b[0m     0.0625                  0.0625                  \u001b[92m0.0000\u001b[0m\n",
      "\u001b[96m2 tags\u001b[0m\n",
      "\u001b[94mround duration\u001b[0m             0.006641387285970515    0.006655956445312501    \u001b[92m0.0022\u001b[0m\n",
      "\u001b[94mempty slot duration\u001b[0m        7.5e-05                 7.5e-05                 \u001b[92m0.0000\u001b[0m\n",
      "\u001b[94mcollided slot duration\u001b[0m     0.00019101562500000002  0.00019101562499999997  \u001b[92m0.0000\u001b[0m\n",
      "\u001b[94mreply slot duration\u001b[0m        0.001668374743740638    0.0016727642158488065   \u001b[92m0.0026\u001b[0m\n",
      "\u001b[94mempty slot probability\u001b[0m     0.878721875             0.87859375              \u001b[92m0.0001\u001b[0m\n",
      "\u001b[94mcollided slot probability\u001b[0m  0.0037218750000000134   0.00359375              \u001b[92m0.0357\u001b[0m\n",
      "\u001b[94mreply slot probability\u001b[0m     0.11755625              0.1178125               \u001b[92m0.0022\u001b[0m\n",
      "\u001b[96m3 tags\u001b[0m\n",
      "\u001b[94mround duration\u001b[0m             0.007857341008286266    0.0078663978515625      \u001b[92m0.0012\u001b[0m\n",
      "\u001b[94mempty slot duration\u001b[0m        7.5e-05                 7.5e-05                 \u001b[92m0.0000\u001b[0m\n",
      "\u001b[94mcollided slot duration\u001b[0m     0.00019101562500000002  0.00019101562499999997  \u001b[92m0.0000\u001b[0m\n",
      "\u001b[94mreply slot duration\u001b[0m        0.001668374743740638    0.001674829268654943    \u001b[92m0.0039\u001b[0m\n",
      "\u001b[94mempty slot probability\u001b[0m     0.8240375               0.824125                \u001b[92m0.0001\u001b[0m\n",
      "\u001b[94mcollided slot probability\u001b[0m  0.011259375000000016    0.0115                  \u001b[92m0.0209\u001b[0m\n",
      "\u001b[94mreply slot probability\u001b[0m     0.164703125             0.164375                \u001b[92m0.0020\u001b[0m\n",
      "\u001b[96m4 tags\u001b[0m\n",
      "\u001b[94mround duration\u001b[0m             0.008920883091140757    0.008867971875000002    \u001b[92m0.0060\u001b[0m\n",
      "\u001b[94mempty slot duration\u001b[0m        7.5e-05                 7.5e-05                 \u001b[92m0.0000\u001b[0m\n",
      "\u001b[94mcollided slot duration\u001b[0m     0.00019101562500000002  0.00019101562499999997  \u001b[92m0.0000\u001b[0m\n",
      "\u001b[94mreply slot duration\u001b[0m        0.001668374743740638    0.0016569821316300868   \u001b[92m0.0069\u001b[0m\n",
      "\u001b[94mempty slot probability\u001b[0m     0.772628125             0.773                   \u001b[92m0.0005\u001b[0m\n",
      "\u001b[94mcollided slot probability\u001b[0m  0.021712499999999996    0.02196875              \u001b[92m0.0117\u001b[0m\n",
      "\u001b[94mreply slot probability\u001b[0m     0.205659375             0.20503125              \u001b[92m0.0031\u001b[0m\n",
      "\u001b[96m5 tags\u001b[0m\n",
      "\u001b[94mround duration\u001b[0m             0.009833483182651162    0.009793286523437502    \u001b[92m0.0041\u001b[0m\n",
      "\u001b[94mempty slot duration\u001b[0m        7.5e-05                 7.5e-05                 \u001b[92m0.0000\u001b[0m\n",
      "\u001b[94mcollided slot duration\u001b[0m     0.00019101562500000002  0.00019101562499999997  \u001b[92m0.0000\u001b[0m\n",
      "\u001b[94mreply slot duration\u001b[0m        0.001668374743740638    0.0016819313382605255   \u001b[92m0.0081\u001b[0m\n",
      "\u001b[94mempty slot probability\u001b[0m     0.724696875             0.726625                \u001b[92m0.0027\u001b[0m\n",
      "\u001b[94mcollided slot probability\u001b[0m  0.0348                  0.03659375              \u001b[92m0.0490\u001b[0m\n",
      "\u001b[94mreply slot probability\u001b[0m     0.24050312499999998     0.23678125              \u001b[92m0.0157\u001b[0m\n",
      "\u001b[96m6 tags\u001b[0m\n",
      "\u001b[94mround duration\u001b[0m             0.01064927629491653     0.010525799804687501    \u001b[92m0.0117\u001b[0m\n",
      "\u001b[94mempty slot duration\u001b[0m        7.5e-05                 7.5e-05                 \u001b[92m0.0000\u001b[0m\n",
      "\u001b[94mcollided slot duration\u001b[0m     0.00019101562500000002  0.00019101562499999997  \u001b[92m0.0000\u001b[0m\n",
      "\u001b[94mreply slot duration\u001b[0m        0.001668374743740638    0.0016564932768127327   \u001b[92m0.0072\u001b[0m\n",
      "\u001b[94mempty slot probability\u001b[0m     0.6790156249999999      0.68075                 \u001b[92m0.0025\u001b[0m\n",
      "\u001b[94mcollided slot probability\u001b[0m  0.04955625000000008     0.05075                 \u001b[92m0.0235\u001b[0m\n",
      "\u001b[94mreply slot probability\u001b[0m     0.271428125             0.2685                  \u001b[92m0.0109\u001b[0m\n",
      "\u001b[96m7 tags\u001b[0m\n",
      "\u001b[94mround duration\u001b[0m             0.011329373586687093    0.011402955273437501    \u001b[92m0.0065\u001b[0m\n",
      "\u001b[94mempty slot duration\u001b[0m        7.5e-05                 7.5e-05                 \u001b[92m0.0000\u001b[0m\n",
      "\u001b[94mcollided slot duration\u001b[0m     0.00019101562500000002  0.00019101562499999997  \u001b[92m0.0000\u001b[0m\n",
      "\u001b[94mreply slot duration\u001b[0m        0.001668374743740638    0.0016704191749060838   \u001b[92m0.0012\u001b[0m\n",
      "\u001b[94mempty slot probability\u001b[0m     0.6366375               0.63534375              \u001b[92m0.0020\u001b[0m\n",
      "\u001b[94mcollided slot probability\u001b[0m  0.06649062500000003     0.0651875               \u001b[92m0.0200\u001b[0m\n",
      "\u001b[94mreply slot probability\u001b[0m     0.296871875             0.29946875              \u001b[92m0.0087\u001b[0m\n",
      "\u001b[96m8 tags\u001b[0m\n",
      "\u001b[94mround duration\u001b[0m             0.011910172507435134    0.011890935937500001    \u001b[92m0.0016\u001b[0m\n",
      "\u001b[94mempty slot duration\u001b[0m        7.5e-05                 7.5e-05                 \u001b[92m0.0000\u001b[0m\n",
      "\u001b[94mcollided slot duration\u001b[0m     0.00019101562500000002  0.00019101562499999997  \u001b[92m0.0000\u001b[0m\n",
      "\u001b[94mreply slot duration\u001b[0m        0.001668374743740638    0.001659889652356367    \u001b[92m0.0051\u001b[0m\n",
      "\u001b[94mempty slot probability\u001b[0m     0.596578125             0.596125                \u001b[92m0.0008\u001b[0m\n",
      "\u001b[94mcollided slot probability\u001b[0m  0.08512500000000006     0.08459375              \u001b[92m0.0063\u001b[0m\n",
      "\u001b[94mreply slot probability\u001b[0m     0.318296875             0.31928125              \u001b[92m0.0031\u001b[0m\n",
      "\u001b[96m9 tags\u001b[0m\n",
      "\u001b[94mround duration\u001b[0m             0.0124113679716699      0.0124080302734375      \u001b[92m0.0003\u001b[0m\n",
      "\u001b[94mempty slot duration\u001b[0m        7.5e-05                 7.5e-05                 \u001b[92m0.0000\u001b[0m\n",
      "\u001b[94mcollided slot duration\u001b[0m     0.00019101562500000002  0.00019101562499999997  \u001b[92m0.0000\u001b[0m\n",
      "\u001b[94mreply slot duration\u001b[0m        0.001668374743740638    0.0016795771147188174   \u001b[92m0.0067\u001b[0m\n",
      "\u001b[94mempty slot probability\u001b[0m     0.558971875             0.5601875               \u001b[92m0.0022\u001b[0m\n",
      "\u001b[94mcollided slot probability\u001b[0m  0.10448124999999997     0.10584375              \u001b[92m0.0129\u001b[0m\n",
      "\u001b[94mreply slot probability\u001b[0m     0.336546875             0.33396875              \u001b[92m0.0077\u001b[0m\n",
      "\u001b[96m10 tags\u001b[0m\n",
      "\u001b[94mround duration\u001b[0m             0.012759199294138096    0.012913408007812502    \u001b[92m0.0119\u001b[0m\n",
      "\u001b[94mempty slot duration\u001b[0m        7.5e-05                 7.5e-05                 \u001b[92m0.0000\u001b[0m\n",
      "\u001b[94mcollided slot duration\u001b[0m     0.00019101562500000002  0.00019101562499999997  \u001b[92m0.0000\u001b[0m\n",
      "\u001b[94mreply slot duration\u001b[0m        0.001668374743740638    0.0016886285883966812   \u001b[92m0.0120\u001b[0m\n",
      "\u001b[94mempty slot probability\u001b[0m     0.5250343749999999      0.52415625              \u001b[92m0.0017\u001b[0m\n",
      "\u001b[94mcollided slot probability\u001b[0m  0.12636875000000003     0.12559375              \u001b[92m0.0062\u001b[0m\n",
      "\u001b[94mreply slot probability\u001b[0m     0.34859687500000003     0.35025                 \u001b[92m0.0047\u001b[0m\n",
      "\u001b[96m11 tags\u001b[0m\n",
      "\u001b[94mround duration\u001b[0m             0.013061986059808742    0.013053893359375       \u001b[92m0.0006\u001b[0m\n",
      "\u001b[94mempty slot duration\u001b[0m        7.5e-05                 7.5e-05                 \u001b[92m0.0000\u001b[0m\n",
      "\u001b[94mcollided slot duration\u001b[0m     0.00019101562500000002  0.00019101562499999997  \u001b[92m0.0000\u001b[0m\n",
      "\u001b[94mreply slot duration\u001b[0m        0.001668374743740638    0.001676663768076249    \u001b[92m0.0049\u001b[0m\n",
      "\u001b[94mempty slot probability\u001b[0m     0.4928                  0.4931875               \u001b[92m0.0008\u001b[0m\n",
      "\u001b[94mcollided slot probability\u001b[0m  0.14832499999999998     0.15025                 \u001b[92m0.0128\u001b[0m\n",
      "\u001b[94mreply slot probability\u001b[0m     0.358875                0.3565625               \u001b[92m0.0065\u001b[0m\n",
      "\u001b[96m12 tags\u001b[0m\n",
      "\u001b[94mround duration\u001b[0m             0.013330773587264593    0.013183130859375001    \u001b[92m0.0112\u001b[0m\n",
      "\u001b[94mempty slot duration\u001b[0m        7.5e-05                 7.5e-05                 \u001b[92m0.0000\u001b[0m\n",
      "\u001b[94mcollided slot duration\u001b[0m     0.00019101562500000002  0.00019101562499999997  \u001b[92m0.0000\u001b[0m\n",
      "\u001b[94mreply slot duration\u001b[0m        0.001668374743740638    0.0016655209792564658   \u001b[92m0.0017\u001b[0m\n",
      "\u001b[94mempty slot probability\u001b[0m     0.461690625             0.46478125              \u001b[92m0.0066\u001b[0m\n",
      "\u001b[94mcollided slot probability\u001b[0m  0.17050624999999997     0.17271875              \u001b[92m0.0128\u001b[0m\n",
      "\u001b[94mreply slot probability\u001b[0m     0.367803125             0.3625                  \u001b[92m0.0146\u001b[0m\n",
      "\u001b[96m13 tags\u001b[0m\n",
      "\u001b[94mround duration\u001b[0m             0.013566222797548143    0.013443052343750001    \u001b[92m0.0092\u001b[0m\n",
      "\u001b[94mempty slot duration\u001b[0m        7.5e-05                 7.5e-05                 \u001b[92m0.0000\u001b[0m\n",
      "\u001b[94mcollided slot duration\u001b[0m     0.00019101562500000002  0.00019101562499999997  \u001b[92m0.0000\u001b[0m\n",
      "\u001b[94mreply slot duration\u001b[0m        0.001668374743740638    0.0016630611786524882   \u001b[92m0.0032\u001b[0m\n",
      "\u001b[94mempty slot probability\u001b[0m     0.431509375             0.4344375               \u001b[92m0.0067\u001b[0m\n",
      "\u001b[94mcollided slot probability\u001b[0m  0.19309687500000006     0.1938125               \u001b[92m0.0037\u001b[0m\n",
      "\u001b[94mreply slot probability\u001b[0m     0.37539374999999997     0.37175                 \u001b[92m0.0098\u001b[0m\n",
      "\u001b[96m14 tags\u001b[0m\n",
      "\u001b[94mround duration\u001b[0m             0.013698451064383554    0.013754515429687501    \u001b[92m0.0041\u001b[0m\n",
      "\u001b[94mempty slot duration\u001b[0m        7.5e-05                 7.5e-05                 \u001b[92m0.0000\u001b[0m\n",
      "\u001b[94mcollided slot duration\u001b[0m     0.00019101562500000002  0.00019101562499999997  \u001b[92m0.0000\u001b[0m\n",
      "\u001b[94mreply slot duration\u001b[0m        0.001668374743740638    0.0016781962600556934   \u001b[92m0.0059\u001b[0m\n",
      "\u001b[94mempty slot probability\u001b[0m     0.40504375              0.404875                \u001b[92m0.0004\u001b[0m\n",
      "\u001b[94mcollided slot probability\u001b[0m  0.21604687500000008     0.216375                \u001b[92m0.0015\u001b[0m\n",
      "\u001b[94mreply slot probability\u001b[0m     0.378909375             0.37875                 \u001b[92m0.0004\u001b[0m\n",
      "\u001b[96m15 tags\u001b[0m\n",
      "\u001b[94mround duration\u001b[0m             0.013798546034346352    0.013760256250000002    \u001b[92m0.0028\u001b[0m\n",
      "\u001b[94mempty slot duration\u001b[0m        7.5e-05                 7.5e-05                 \u001b[92m0.0000\u001b[0m\n",
      "\u001b[94mcollided slot duration\u001b[0m     0.00019101562500000002  0.00019101562499999997  \u001b[92m0.0000\u001b[0m\n",
      "\u001b[94mreply slot duration\u001b[0m        0.001668374743740638    0.0016772432712215321   \u001b[92m0.0053\u001b[0m\n",
      "\u001b[94mempty slot probability\u001b[0m     0.378896875             0.38065625              \u001b[92m0.0046\u001b[0m\n",
      "\u001b[94mcollided slot probability\u001b[0m  0.24001249999999996     0.242                   \u001b[92m0.0082\u001b[0m\n",
      "\u001b[94mreply slot probability\u001b[0m     0.381090625             0.37734375              \u001b[92m0.0099\u001b[0m\n",
      "\u001b[96m16 tags\u001b[0m\n",
      "\u001b[94mround duration\u001b[0m             0.013797155738755378    0.013898756835937501    \u001b[92m0.0073\u001b[0m\n",
      "\u001b[94mempty slot duration\u001b[0m        7.5e-05                 7.5e-05                 \u001b[92m0.0000\u001b[0m\n",
      "\u001b[94mcollided slot duration\u001b[0m     0.00019101562500000002  0.00019101562499999997  \u001b[92m0.0000\u001b[0m\n",
      "\u001b[94mreply slot duration\u001b[0m        0.001668374743740638    0.0016749500887595155   \u001b[92m0.0039\u001b[0m\n",
      "\u001b[94mempty slot probability\u001b[0m     0.35624687499999996     0.35534375              \u001b[92m0.0025\u001b[0m\n",
      "\u001b[94mcollided slot probability\u001b[0m  0.2645                  0.262875                \u001b[92m0.0062\u001b[0m\n",
      "\u001b[94mreply slot probability\u001b[0m     0.379253125             0.38178125              \u001b[92m0.0066\u001b[0m\n",
      "\u001b[96m17 tags\u001b[0m\n",
      "\u001b[94mround duration\u001b[0m             0.013883438417479178    0.013780047656250002    \u001b[92m0.0075\u001b[0m\n",
      "\u001b[94mempty slot duration\u001b[0m        7.5e-05                 7.5e-05                 \u001b[92m0.0000\u001b[0m\n",
      "\u001b[94mcollided slot duration\u001b[0m     0.00019101562500000002  0.00019101562499999997  \u001b[92m0.0000\u001b[0m\n",
      "\u001b[94mreply slot duration\u001b[0m        0.001668374743740638    0.0016777497575296179   \u001b[92m0.0056\u001b[0m\n",
      "\u001b[94mempty slot probability\u001b[0m     0.33216874999999996     0.336                   \u001b[92m0.0114\u001b[0m\n",
      "\u001b[94mcollided slot probability\u001b[0m  0.2868187500000001      0.2894375               \u001b[92m0.0090\u001b[0m\n",
      "\u001b[94mreply slot probability\u001b[0m     0.3810125               0.3745625               \u001b[92m0.0172\u001b[0m\n",
      "\u001b[96m18 tags\u001b[0m\n",
      "\u001b[94mround duration\u001b[0m             0.013779407694705372    0.013712094140625       \u001b[92m0.0049\u001b[0m\n",
      "\u001b[94mempty slot duration\u001b[0m        7.5e-05                 7.5e-05                 \u001b[92m0.0000\u001b[0m\n",
      "\u001b[94mcollided slot duration\u001b[0m     0.00019101562500000002  0.00019101562499999997  \u001b[92m0.0000\u001b[0m\n",
      "\u001b[94mreply slot duration\u001b[0m        0.001668374743740638    0.0016648414608622856   \u001b[92m0.0021\u001b[0m\n",
      "\u001b[94mempty slot probability\u001b[0m     0.313359375             0.31465625              \u001b[92m0.0041\u001b[0m\n",
      "\u001b[94mcollided slot probability\u001b[0m  0.31150625              0.3120625               \u001b[92m0.0018\u001b[0m\n",
      "\u001b[94mreply slot probability\u001b[0m     0.375134375             0.37328125              \u001b[92m0.0050\u001b[0m\n",
      "\u001b[96m19 tags\u001b[0m\n",
      "\u001b[94mround duration\u001b[0m             0.01371104660736697     0.013606691015625002    \u001b[92m0.0077\u001b[0m\n",
      "\u001b[94mempty slot duration\u001b[0m        7.5e-05                 7.5e-05                 \u001b[92m0.0000\u001b[0m\n",
      "\u001b[94mcollided slot duration\u001b[0m     0.00019101562500000002  0.00019101562499999997  \u001b[92m0.0000\u001b[0m\n",
      "\u001b[94mreply slot duration\u001b[0m        0.001668374743740638    0.0016520474933549912   \u001b[92m0.0099\u001b[0m\n",
      "\u001b[94mempty slot probability\u001b[0m     0.293878125             0.29328125              \u001b[92m0.0020\u001b[0m\n",
      "\u001b[94mcollided slot probability\u001b[0m  0.335409375             0.336375                \u001b[92m0.0029\u001b[0m\n",
      "\u001b[94mreply slot probability\u001b[0m     0.3707125               0.37034375              \u001b[92m0.0010\u001b[0m\n",
      "\u001b[96m20 tags\u001b[0m\n",
      "\u001b[94mround duration\u001b[0m             0.0136492284859604      0.013833976953125       \u001b[92m0.0134\u001b[0m\n",
      "\u001b[94mempty slot duration\u001b[0m        7.5e-05                 7.5e-05                 \u001b[92m0.0000\u001b[0m\n",
      "\u001b[94mcollided slot duration\u001b[0m     0.00019101562500000002  0.00019101562499999997  \u001b[92m0.0000\u001b[0m\n",
      "\u001b[94mreply slot duration\u001b[0m        0.001668374743740638    0.001687803136629874    \u001b[92m0.0115\u001b[0m\n",
      "\u001b[94mempty slot probability\u001b[0m     0.274771875             0.2736875               \u001b[92m0.0040\u001b[0m\n",
      "\u001b[94mcollided slot probability\u001b[0m  0.35863125              0.35684375              \u001b[92m0.0050\u001b[0m\n",
      "\u001b[94mreply slot probability\u001b[0m     0.366596875             0.36946875              \u001b[92m0.0078\u001b[0m\n"
     ]
    }
   ],
   "source": [
    "# Compare slots durations estimated with Monte-Carlo method and analytic approach\n",
    "BER_INDEX = -2\n",
    "PROTOCOL_NAME = 'tid'\n",
    "\n",
    "rows = []\n",
    "for i, n_tags in enumerate(N_TAGS):\n",
    "    rounds_model = ROUND_MODELS[PROTOCOL_NAME][BER_INDEX][i]\n",
    "    estimated_round_duration = ESTIMATED_ROUND_DURATIONS[PROTOCOL_NAME][BER_INDEX][i]\n",
    "    estiamted_slots_durations = ESTIMATED_SLOTS_DURATIONS[PROTOCOL_NAME][BER_INDEX][i]\n",
    "    estimated_slots_counts = ESTIMATED_SLOTS_COUNTS[PROTOCOL_NAME][BER_INDEX][i]\n",
    "\n",
    "    # Compute slot probabilities:\n",
    "    estimated_slots_probs = SlotValues(\n",
    "        empty=(estimated_slots_counts.empty / protocol.props.n_slots),\n",
    "        collided=(estimated_slots_counts.collided / protocol.props.n_slots),\n",
    "        reply=(estimated_slots_counts.reply / protocol.props.n_slots))\n",
    "    \n",
    "    # Build table rows:\n",
    "    value_rows = [\n",
    "        [fmt_header('round duration'), rounds_model.round_duration, estimated_round_duration],\n",
    "        [fmt_header('empty slot duration'), rounds_model.slots.durations.empty, estiamted_slots_durations.empty],\n",
    "        [fmt_header('collided slot duration'), rounds_model.slots.durations.collided, estiamted_slots_durations.collided],\n",
    "        [fmt_header('reply slot duration'), rounds_model.slots.durations.reply, estiamted_slots_durations.reply],\n",
    "        [fmt_header('empty slot probability'), rounds_model.slots.probs.empty, estimated_slots_probs.empty],\n",
    "        [fmt_header('collided slot probability'), rounds_model.slots.probs.collided, estimated_slots_probs.collided],\n",
    "        [fmt_header('reply slot probability'), rounds_model.slots.probs.reply, estimated_slots_probs.reply],\n",
    "    ]\n",
    "\n",
    "    # Append errors estimations to each row:\n",
    "    for row in value_rows:\n",
    "        row.append(fmt_err(row[-1], row[-2]))\n",
    "    \n",
    "    # Add rows to the main table:\n",
    "    title_row = [fmt_delim(f'{n_tags} tag{pluralize(n_tags)}')] + [''] * 3\n",
    "    rows.append(title_row)\n",
    "    rows.extend(value_rows)\n",
    "\n",
    "headers = [fmt_header(s) for s in ['', 'Analytic', 'Simulation', 'Error']]\n",
    "print(tabulate(rows, headers=headers))"
   ]
  },
  {
   "cell_type": "markdown",
   "metadata": {},
   "source": [
    "## Сравнение длительностей раундов"
   ]
  },
  {
   "cell_type": "code",
   "execution_count": 23,
   "metadata": {},
   "outputs": [
    {
     "data": {
      "image/png": "[encoded data removed]",
      "text/plain": [
       "<Figure size 864x288 with 2 Axes>"
      ]
     },
     "metadata": {
      "needs_background": "light"
     },
     "output_type": "display_data"
    }
   ],
   "source": [
    "fig, (ax1, ax2) = plt.subplots(figsize=(12, 4), nrows=1, ncols=2)\n",
    "MARKERS = ['X', 'd', 'o', \"s\", 'v']\n",
    "LINES = ['-', '-', '-', '-']\n",
    "\n",
    "for i, ber in enumerate(BER):\n",
    "    color = get_color(i/len(BER) * 0.8 + 0.1)\n",
    "    marker = MARKERS[i % len(MARKERS)]\n",
    "    linestyle = LINES[i % len(LINES)]\n",
    "    ax1.plot(N_TAGS, ESTIMATED_ROUND_DURATIONS['epcid'][i], \n",
    "             label=f'BER={ber}, Монте-Карло', marker=marker, \n",
    "             color=color, linestyle=\"None\", markersize=8)\n",
    "    ax1.plot(N_TAGS, ANALYTIC_ROUND_DURATIONS['epcid'][i], \n",
    "             label=f'BER={ber}, аналитика', color=color, linestyle=linestyle,\n",
    "             linewidth=2)\n",
    "    ax2.plot(N_TAGS, ESTIMATED_ROUND_DURATIONS['tid'][i], \n",
    "             label=f'BER={ber}, Монте-Карло', marker=marker, color=color, \n",
    "             linestyle=\"None\", markersize=8)\n",
    "    ax2.plot(N_TAGS, ANALYTIC_ROUND_DURATIONS['tid'][i], \n",
    "             label=f'BER={ber}, аналитика', color=color, linestyle=linestyle,\n",
    "             linewidth=2)\n",
    "\n",
    "lgd = fig.legend(*ax1.get_legend_handles_labels(), loc='lower center', \n",
    "               bbox_to_anchor=(0.5, -0.29), ncol=3)\n",
    "\n",
    "ax1.set_title('Чтение EPCID')\n",
    "ax2.set_title('Чтение TID')\n",
    "# fig.suptitle('Round durations')\n",
    "for ax in (ax1, ax2):\n",
    "    ax.grid()\n",
    "    ax.set_xlabel('Число меток')\n",
    "    ax.set_ylabel(f'Длительность, сек.')\n",
    "plt.tight_layout()\n",
    "savefig(\"ch3_round_durations_validation\")\n",
    "# plt.savefig('images/round_durations_validation.pdf', bbox_extra_artists=(lgd,), bbox_inches='tight')"
   ]
  },
  {
   "cell_type": "markdown",
   "metadata": {},
   "source": [
    "## Экспериментальный код"
   ]
  },
  {
   "cell_type": "code",
   "execution_count": null,
   "metadata": {},
   "outputs": [],
   "source": []
  }
 ],
 "metadata": {
  "kernelspec": {
   "display_name": "Python 3",
   "language": "python",
   "name": "python3"
  },
  "language_info": {
   "codemirror_mode": {
    "name": "ipython",
    "version": 3
   },
   "file_extension": ".py",
   "mimetype": "text/x-python",
   "name": "python",
   "nbconvert_exporter": "python",
   "pygments_lexer": "ipython3",
   "version": "3.8.10"
  }
 },
 "nbformat": 4,
 "nbformat_minor": 4
}
