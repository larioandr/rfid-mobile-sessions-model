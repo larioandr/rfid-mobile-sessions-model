{
 "cells": [
  {
   "cell_type": "markdown",
   "metadata": {},
   "source": [
    "# Валидация расчета длительностей раундов\n",
    "\n",
    "В этом ноутбуке найдем и сравним оценки длительностей раундов при заданной вероятности битовой ошибки (BER) с помощью метода Монте-Карло и аналитической модели, построенной на урновой схеме."
   ]
  },
  {
   "cell_type": "code",
   "execution_count": 1,
   "metadata": {},
   "outputs": [],
   "source": [
    "%load_ext autoreload\n",
    "%autoreload 2"
   ]
  },
  {
   "cell_type": "code",
   "execution_count": 11,
   "metadata": {},
   "outputs": [],
   "source": [
    "from rfidam.inventory import RoundModel, SlotModel, estimate_rounds_props, SlotValues\n",
    "from rfidam.protocol.protocol import Protocol, LinkProps\n",
    "from rfidam.utils import bcolors, get_err, fmt_err, highlight, pluralize\n",
    "from rfidam.protocol.symbols import TagEncoding, DR\n",
    "\n",
    "from tabulate import tabulate\n",
    "from tqdm.notebook import tqdm\n",
    "import numpy as np\n",
    "import matplotlib.pyplot as plt\n",
    "import matplotlib as mpl\n",
    "from itertools import product"
   ]
  },
  {
   "cell_type": "code",
   "execution_count": 12,
   "metadata": {},
   "outputs": [],
   "source": [
    "%matplotlib inline\n",
    "# Настроим Matplotlib: выберем цветовую схему и сделаем шрифты крупнее\n",
    "CMAP = plt.get_cmap('viridis')\n",
    "mpl.rcParams['legend.fontsize'] = 16\n",
    "mpl.rcParams['axes.labelsize'] = 18\n",
    "mpl.rcParams['figure.titlesize'] = 22\n",
    "mpl.rcParams['xtick.labelsize'] = 16\n",
    "mpl.rcParams['ytick.labelsize'] = 16\n",
    "mpl.rcParams['axes.titlesize'] = 20"
   ]
  },
  {
   "cell_type": "markdown",
   "metadata": {},
   "source": [
    "Определим вспомогательные методы для однотипной подстветки таблиц и форматирования строк."
   ]
  },
  {
   "cell_type": "code",
   "execution_count": 3,
   "metadata": {},
   "outputs": [],
   "source": [
    "def fmt_header(s):\n",
    "    return highlight(s, bcolors.OKBLUE)\n",
    "\n",
    "def fmt_delim(s):\n",
    "    return highlight(s, bcolors.OKCYAN)\n",
    "\n",
    "def fmt_float(x):\n",
    "    return f'{x:.4f}'"
   ]
  },
  {
   "cell_type": "markdown",
   "metadata": {},
   "source": [
    "## Параметры модели\n",
    "\n",
    "Определим два сценария идентификации меток:\n",
    "\n",
    "- идентификация по EPCID\n",
    "- идентификация по TID и EPCID\n",
    "\n",
    "В обоих случаях будем использовать идентичные настройки протокола:\n",
    "\n",
    "- `Tari = 12.5us`\n",
    "- `RTcal = 37.5us`\n",
    "- `TRcal = 50us`\n",
    "- `DR = 64/3`\n",
    "- `TRext = 0`\n",
    "- `Q = 4`\n",
    "- `M = 2`\n",
    "\n",
    "Также будем считать, что длина EPCID равна 12 байтам, а TID - 8 байтам (4 словам)."
   ]
  },
  {
   "cell_type": "code",
   "execution_count": 4,
   "metadata": {},
   "outputs": [],
   "source": [
    "PROTOCOL_SETTINGS = {\n",
    "    'tari': 12.5e-6,\n",
    "    'rtcal': 37.5e-6,\n",
    "    'trcal': 50e-6,\n",
    "    'm': TagEncoding.M2,\n",
    "    'dr': DR.DR_643,\n",
    "    'trext': False,\n",
    "    'q': 4,\n",
    "    't_off': 0.1,\n",
    "    'n_epcid_bytes': 12,\n",
    "    'n_data_words': 4\n",
    "}\n",
    "\n",
    "LINK_PROPS = {\n",
    "    'epcid': LinkProps(**PROTOCOL_SETTINGS, use_tid=False),\n",
    "    'tid': LinkProps(**PROTOCOL_SETTINGS, use_tid=True)\n",
    "}\n",
    "\n",
    "PROTOCOLS = {key: Protocol(LINK_PROPS[key]) for key in LINK_PROPS}"
   ]
  },
  {
   "cell_type": "markdown",
   "metadata": {},
   "source": [
    "Число меток будем брать из множества $N = 0, 1, 2, 3, 4, 10, 20$."
   ]
  },
  {
   "cell_type": "code",
   "execution_count": 5,
   "metadata": {},
   "outputs": [],
   "source": [
    "N_TAGS = np.arange(21)\n",
    "BER = [.001, .005, .01, .02]"
   ]
  },
  {
   "cell_type": "markdown",
   "metadata": {},
   "source": [
    "## Вычисление параметров раундов методом Монте-Карло\n",
    "\n",
    "Рассчитаем длины слотов и раундов методом Монте-Карло. Для этого будем моделировать процесс идентификации меток, собирать длительности слотов без ответов меток, слотов с попытками ответа одной метки и слотов с коллизиями."
   ]
  },
  {
   "cell_type": "code",
   "execution_count": 6,
   "metadata": {},
   "outputs": [
    {
     "data": {
      "application/vnd.jupyter.widget-view+json": {
       "model_id": "bd9740f914604705a2de8e94049612bf",
       "version_major": 2,
       "version_minor": 0
      },
      "text/plain": [
       "  0%|          | 0/2 [00:00<?, ?it/s]"
      ]
     },
     "metadata": {},
     "output_type": "display_data"
    },
    {
     "data": {
      "application/vnd.jupyter.widget-view+json": {
       "model_id": "",
       "version_major": 2,
       "version_minor": 0
      },
      "text/plain": [
       "  0%|          | 0/4 [00:00<?, ?it/s]"
      ]
     },
     "metadata": {},
     "output_type": "display_data"
    },
    {
     "data": {
      "application/vnd.jupyter.widget-view+json": {
       "model_id": "",
       "version_major": 2,
       "version_minor": 0
      },
      "text/plain": [
       "  0%|          | 0/21 [00:00<?, ?it/s]"
      ]
     },
     "metadata": {},
     "output_type": "display_data"
    },
    {
     "data": {
      "application/vnd.jupyter.widget-view+json": {
       "model_id": "",
       "version_major": 2,
       "version_minor": 0
      },
      "text/plain": [
       "  0%|          | 0/21 [00:00<?, ?it/s]"
      ]
     },
     "metadata": {},
     "output_type": "display_data"
    },
    {
     "data": {
      "application/vnd.jupyter.widget-view+json": {
       "model_id": "",
       "version_major": 2,
       "version_minor": 0
      },
      "text/plain": [
       "  0%|          | 0/21 [00:00<?, ?it/s]"
      ]
     },
     "metadata": {},
     "output_type": "display_data"
    },
    {
     "data": {
      "application/vnd.jupyter.widget-view+json": {
       "model_id": "",
       "version_major": 2,
       "version_minor": 0
      },
      "text/plain": [
       "  0%|          | 0/21 [00:00<?, ?it/s]"
      ]
     },
     "metadata": {},
     "output_type": "display_data"
    },
    {
     "data": {
      "application/vnd.jupyter.widget-view+json": {
       "model_id": "",
       "version_major": 2,
       "version_minor": 0
      },
      "text/plain": [
       "  0%|          | 0/4 [00:00<?, ?it/s]"
      ]
     },
     "metadata": {},
     "output_type": "display_data"
    },
    {
     "data": {
      "application/vnd.jupyter.widget-view+json": {
       "model_id": "",
       "version_major": 2,
       "version_minor": 0
      },
      "text/plain": [
       "  0%|          | 0/21 [00:00<?, ?it/s]"
      ]
     },
     "metadata": {},
     "output_type": "display_data"
    },
    {
     "data": {
      "application/vnd.jupyter.widget-view+json": {
       "model_id": "",
       "version_major": 2,
       "version_minor": 0
      },
      "text/plain": [
       "  0%|          | 0/21 [00:00<?, ?it/s]"
      ]
     },
     "metadata": {},
     "output_type": "display_data"
    },
    {
     "data": {
      "application/vnd.jupyter.widget-view+json": {
       "model_id": "",
       "version_major": 2,
       "version_minor": 0
      },
      "text/plain": [
       "  0%|          | 0/21 [00:00<?, ?it/s]"
      ]
     },
     "metadata": {},
     "output_type": "display_data"
    },
    {
     "data": {
      "application/vnd.jupyter.widget-view+json": {
       "model_id": "",
       "version_major": 2,
       "version_minor": 0
      },
      "text/plain": [
       "  0%|          | 0/21 [00:00<?, ?it/s]"
      ]
     },
     "metadata": {},
     "output_type": "display_data"
    }
   ],
   "source": [
    "# We will store values for each protocol in matrices,\n",
    "# where rows correspond to different BER values and columns - number of tags:\n",
    "\n",
    "ESTIMATED_ROUND_DURATIONS = {key: [] for key in PROTOCOLS}\n",
    "ESTIMATED_SLOTS_DURATIONS = {key: [] for key in PROTOCOLS}\n",
    "ESTIMATED_SLOTS_COUNTS = {key: [] for key in PROTOCOLS}\n",
    "\n",
    "TQDM_PROTOCOLS = tqdm(PROTOCOLS)\n",
    "\n",
    "for protocol_name in TQDM_PROTOCOLS:\n",
    "    \n",
    "    TQDM_PROTOCOLS.set_description(protocol_name)\n",
    "    TQDM_BER = tqdm(BER, leave=False)\n",
    "    protocol = PROTOCOLS[protocol_name]\n",
    "\n",
    "    for ber in TQDM_BER:\n",
    "        \n",
    "        TQDM_BER.set_description(f'BER={ber}')\n",
    "        estimated_round_durations = []\n",
    "        estimated_slots_durations = []\n",
    "        estimated_slots_counts = []\n",
    "        TQDM_TAGS = tqdm(N_TAGS, leave=False)\n",
    "        \n",
    "        for n_tags in TQDM_TAGS:\n",
    "            TQDM_TAGS.set_description(f'{n_tags} tags')\n",
    "            \n",
    "            # Run Monte-Carlo:\n",
    "            round_duration, slots_durations, slots_counts = \\\n",
    "                estimate_rounds_props(protocol, n_tags, ber, n_iters=range(2000))\n",
    "            \n",
    "            estimated_round_durations.append(round_duration)\n",
    "            estimated_slots_durations.append(slots_durations)\n",
    "            estimated_slots_counts.append(slots_counts)\n",
    "        \n",
    "        # Store results:\n",
    "        ESTIMATED_ROUND_DURATIONS[protocol_name].append(estimated_round_durations)\n",
    "        ESTIMATED_SLOTS_DURATIONS[protocol_name].append(estimated_slots_durations)\n",
    "        ESTIMATED_SLOTS_COUNTS[protocol_name].append(estimated_slots_counts)"
   ]
  },
  {
   "cell_type": "markdown",
   "metadata": {},
   "source": [
    "## Вычисление параметров раундов с помощью аналитической модели\n",
    "\n",
    "Теперь вычислим длительности раундов и слотов с помощью аналитической модели. Эта модель использует урновую схему (см. `rfidam.baskets`) для расчета среднего количества пустых слотов, слотов с одним ответом и слотов с коллизиями."
   ]
  },
  {
   "cell_type": "code",
   "execution_count": 7,
   "metadata": {},
   "outputs": [
    {
     "data": {
      "application/vnd.jupyter.widget-view+json": {
       "model_id": "b042cd943215486cb17994f85dc27de1",
       "version_major": 2,
       "version_minor": 0
      },
      "text/plain": [
       "  0%|          | 0/2 [00:00<?, ?it/s]"
      ]
     },
     "metadata": {},
     "output_type": "display_data"
    },
    {
     "data": {
      "application/vnd.jupyter.widget-view+json": {
       "model_id": "",
       "version_major": 2,
       "version_minor": 0
      },
      "text/plain": [
       "  0%|          | 0/4 [00:00<?, ?it/s]"
      ]
     },
     "metadata": {},
     "output_type": "display_data"
    },
    {
     "data": {
      "application/vnd.jupyter.widget-view+json": {
       "model_id": "",
       "version_major": 2,
       "version_minor": 0
      },
      "text/plain": [
       "  0%|          | 0/4 [00:00<?, ?it/s]"
      ]
     },
     "metadata": {},
     "output_type": "display_data"
    }
   ],
   "source": [
    "# As above, we store models in dictionaries with the same keys sets as protocols.\n",
    "# At each key, we store a matrix, in which:\n",
    "# - rows correspond to BER values\n",
    "# - columns correspond to different numbers of tags\n",
    "ROUND_MODELS = {key: [] for key in PROTOCOLS}\n",
    "\n",
    "# Also store round durations separately.\n",
    "# We do so, since `round_durations` property is cached, so calling it will run estimation.\n",
    "ANALYTIC_ROUND_DURATIONS = {key: [] for key in PROTOCOLS}\n",
    "\n",
    "TQDM_PROTOCOLS = tqdm(PROTOCOLS)\n",
    "for protocol_name in TQDM_PROTOCOLS:\n",
    "    \n",
    "    TQDM_PROTOCOLS.set_description(protocol_name)\n",
    "    TQDM_BERS = tqdm(BER, leave=False)\n",
    "    protocol = PROTOCOLS[protocol_name]\n",
    "\n",
    "    for ber in TQDM_BERS:\n",
    "        \n",
    "        TQDM_BERS.set_description(f'BER={ber}')    \n",
    "        models = []\n",
    "        round_durations = []\n",
    "        \n",
    "        for n_tags in N_TAGS:\n",
    "            # Build and store the model:\n",
    "            model = RoundModel(protocol, n_tags, ber)\n",
    "            models.append(model)\n",
    "            round_durations.append(model.round_duration)\n",
    "        \n",
    "        # Store models for the given BER:\n",
    "        ROUND_MODELS[protocol_name].append(models)\n",
    "        ANALYTIC_ROUND_DURATIONS[protocol_name].append(round_durations)"
   ]
  },
  {
   "cell_type": "markdown",
   "metadata": {},
   "source": [
    "## Сравнение длин слотов\n",
    "\n",
    "Сначала сравним длительности слотов, рассчитанные из аналитической модели и методом Монте-Карло."
   ]
  },
  {
   "cell_type": "code",
   "execution_count": 8,
   "metadata": {},
   "outputs": [
    {
     "name": "stdout",
     "output_type": "stream",
     "text": [
      "\u001b[94m\u001b[0m                           \u001b[94mAnalytic\u001b[0m                \u001b[94mSimulation\u001b[0m              \u001b[94mError\u001b[0m\n",
      "-------------------------  ----------------------  ----------------------  -------\n",
      "\u001b[96m0 tags\u001b[0m\n",
      "\u001b[94mround duration\u001b[0m             0.0036375               0.0036375000000000014   \u001b[92m0.0000\u001b[0m\n",
      "\u001b[94mempty slot duration\u001b[0m        7.5e-05                 7.5e-05                 \u001b[92m0.0000\u001b[0m\n",
      "\u001b[94mcollided slot duration\u001b[0m     0.00019101562500000002  0.00019101562499999997  \u001b[92m0.0000\u001b[0m\n",
      "\u001b[94mreply slot duration\u001b[0m        0.001668374743740638    nan                     \u001b[92mnan\u001b[0m\n",
      "\u001b[94mempty slot probability\u001b[0m     1.0                     1.0                     \u001b[92m0.0000\u001b[0m\n",
      "\u001b[94mcollided slot probability\u001b[0m  0.0                     0.0                     \u001b[92m0.0000\u001b[0m\n",
      "\u001b[94mreply slot probability\u001b[0m     0.0                     0.0                     \u001b[92m0.0000\u001b[0m\n",
      "\u001b[96m1 tag\u001b[0m\n",
      "\u001b[94mround duration\u001b[0m             0.0052308747437406385   0.005234584179687501    \u001b[92m0.0007\u001b[0m\n",
      "\u001b[94mempty slot duration\u001b[0m        7.5e-05                 7.5e-05                 \u001b[92m0.0000\u001b[0m\n",
      "\u001b[94mcollided slot duration\u001b[0m     0.00019101562500000002  0.00019101562499999997  \u001b[92m0.0000\u001b[0m\n",
      "\u001b[94mreply slot duration\u001b[0m        0.001668374743740638    0.0016720841796875      \u001b[92m0.0022\u001b[0m\n",
      "\u001b[94mempty slot probability\u001b[0m     0.9375                  0.9375                  \u001b[92m0.0000\u001b[0m\n",
      "\u001b[94mcollided slot probability\u001b[0m  0.0                     0.0                     \u001b[92m0.0000\u001b[0m\n",
      "\u001b[94mreply slot probability\u001b[0m     0.0625                  0.0625                  \u001b[92m0.0000\u001b[0m\n",
      "\u001b[96m2 tags\u001b[0m\n",
      "\u001b[94mround duration\u001b[0m             0.006630639717451831    0.0066195228515625      \u001b[92m0.0017\u001b[0m\n",
      "\u001b[94mempty slot duration\u001b[0m        7.5e-05                 7.5e-05                 \u001b[92m0.0000\u001b[0m\n",
      "\u001b[94mcollided slot duration\u001b[0m     0.00019101562500000002  0.00019101562499999997  \u001b[92m0.0000\u001b[0m\n",
      "\u001b[94mreply slot duration\u001b[0m        0.001668374743740638    0.0016599162976158764   \u001b[92m0.0051\u001b[0m\n",
      "\u001b[94mempty slot probability\u001b[0m     0.878940625             0.87884375              \u001b[92m0.0001\u001b[0m\n",
      "\u001b[94mcollided slot probability\u001b[0m  0.003940624999999975    0.00384375              \u001b[92m0.0252\u001b[0m\n",
      "\u001b[94mreply slot probability\u001b[0m     0.11711875              0.1173125               \u001b[92m0.0017\u001b[0m\n",
      "\u001b[96m3 tags\u001b[0m\n",
      "\u001b[94mround duration\u001b[0m             0.007853599662039102    0.007783940429687501    \u001b[92m0.0089\u001b[0m\n",
      "\u001b[94mempty slot duration\u001b[0m        7.5e-05                 7.5e-05                 \u001b[92m0.0000\u001b[0m\n",
      "\u001b[94mcollided slot duration\u001b[0m     0.00019101562500000002  0.00019101562499999997  \u001b[92m0.0000\u001b[0m\n",
      "\u001b[94mreply slot duration\u001b[0m        0.001668374743740638    0.0016636770672799075   \u001b[92m0.0028\u001b[0m\n",
      "\u001b[94mempty slot probability\u001b[0m     0.824103125             0.825375                \u001b[92m0.0015\u001b[0m\n",
      "\u001b[94mcollided slot probability\u001b[0m  0.01134687499999995     0.01240625              \u001b[92m0.0854\u001b[0m\n",
      "\u001b[94mreply slot probability\u001b[0m     0.16455                 0.16221875              \u001b[92m0.0144\u001b[0m\n",
      "\u001b[96m4 tags\u001b[0m\n",
      "\u001b[94mround duration\u001b[0m             0.008927434504114155    0.0088209369140625      \u001b[92m0.0121\u001b[0m\n",
      "\u001b[94mempty slot duration\u001b[0m        7.5e-05                 7.5e-05                 \u001b[92m0.0000\u001b[0m\n",
      "\u001b[94mcollided slot duration\u001b[0m     0.00019101562500000002  0.00019101562499999997  \u001b[92m0.0000\u001b[0m\n",
      "\u001b[94mreply slot duration\u001b[0m        0.001668374743740638    0.001655865681215406    \u001b[92m0.0076\u001b[0m\n",
      "\u001b[94mempty slot probability\u001b[0m     0.77248125              0.773875                \u001b[92m0.0018\u001b[0m\n",
      "\u001b[94mcollided slot probability\u001b[0m  0.021593749999999995    0.022875                \u001b[92m0.0560\u001b[0m\n",
      "\u001b[94mreply slot probability\u001b[0m     0.205925                0.20325                 \u001b[92m0.0132\u001b[0m\n",
      "\u001b[96m5 tags\u001b[0m\n",
      "\u001b[94mround duration\u001b[0m             0.009850425968126372    0.009920208984375001    \u001b[92m0.0070\u001b[0m\n",
      "\u001b[94mempty slot duration\u001b[0m        7.5e-05                 7.5e-05                 \u001b[92m0.0000\u001b[0m\n",
      "\u001b[94mcollided slot duration\u001b[0m     0.00019101562500000002  0.00019101562499999997  \u001b[92m0.0000\u001b[0m\n",
      "\u001b[94mreply slot duration\u001b[0m        0.001668374743740638    0.0016889507769919545   \u001b[92m0.0122\u001b[0m\n",
      "\u001b[94mempty slot probability\u001b[0m     0.7242843749999999      0.724625                \u001b[92m0.0005\u001b[0m\n",
      "\u001b[94mcollided slot probability\u001b[0m  0.03452812500000013     0.0345625               \u001b[92m0.0010\u001b[0m\n",
      "\u001b[94mreply slot probability\u001b[0m     0.2411875               0.2408125               \u001b[92m0.0016\u001b[0m\n",
      "\u001b[96m6 tags\u001b[0m\n",
      "\u001b[94mround duration\u001b[0m             0.010655326492341806    0.0107270123046875      \u001b[92m0.0067\u001b[0m\n",
      "\u001b[94mempty slot duration\u001b[0m        7.5e-05                 7.5e-05                 \u001b[92m0.0000\u001b[0m\n",
      "\u001b[94mcollided slot duration\u001b[0m     0.00019101562500000002  0.00019101562499999997  \u001b[92m0.0000\u001b[0m\n",
      "\u001b[94mreply slot duration\u001b[0m        0.001668374743740638    0.0016728865854354527   \u001b[92m0.0027\u001b[0m\n",
      "\u001b[94mempty slot probability\u001b[0m     0.6789                  0.67775                 \u001b[92m0.0017\u001b[0m\n",
      "\u001b[94mcollided slot probability\u001b[0m  0.04942500000000005     0.04846875              \u001b[92m0.0197\u001b[0m\n",
      "\u001b[94mreply slot probability\u001b[0m     0.271675                0.27378125              \u001b[92m0.0077\u001b[0m\n",
      "\u001b[96m7 tags\u001b[0m\n",
      "\u001b[94mround duration\u001b[0m             0.011295153480644488    0.0111707931640625      \u001b[92m0.0111\u001b[0m\n",
      "\u001b[94mempty slot duration\u001b[0m        7.5e-05                 7.5e-05                 \u001b[92m0.0000\u001b[0m\n",
      "\u001b[94mcollided slot duration\u001b[0m     0.00019101562500000002  0.00019101562499999997  \u001b[92m0.0000\u001b[0m\n",
      "\u001b[94mreply slot duration\u001b[0m        0.001668374743740638    0.0016529740426608438   \u001b[92m0.0093\u001b[0m\n",
      "\u001b[94mempty slot probability\u001b[0m     0.6374437500000001      0.63859375              \u001b[92m0.0018\u001b[0m\n",
      "\u001b[94mcollided slot probability\u001b[0m  0.0670687499999999      0.06803125              \u001b[92m0.0141\u001b[0m\n",
      "\u001b[94mreply slot probability\u001b[0m     0.2954875               0.293375                \u001b[92m0.0072\u001b[0m\n",
      "\u001b[96m8 tags\u001b[0m\n",
      "\u001b[94mround duration\u001b[0m             0.011897157499367398    0.011985596289062503    \u001b[92m0.0074\u001b[0m\n",
      "\u001b[94mempty slot duration\u001b[0m        7.5e-05                 7.5e-05                 \u001b[92m0.0000\u001b[0m\n",
      "\u001b[94mcollided slot duration\u001b[0m     0.00019101562500000002  0.00019101562499999997  \u001b[92m0.0000\u001b[0m\n",
      "\u001b[94mreply slot duration\u001b[0m        0.001668374743740638    0.0016664854374089366   \u001b[92m0.0011\u001b[0m\n",
      "\u001b[94mempty slot probability\u001b[0m     0.5971031249999998      0.59428125              \u001b[92m0.0047\u001b[0m\n",
      "\u001b[94mcollided slot probability\u001b[0m  0.08510937500000015     0.084                   \u001b[92m0.0132\u001b[0m\n",
      "\u001b[94mreply slot probability\u001b[0m     0.3177875               0.32171875              \u001b[92m0.0122\u001b[0m\n",
      "\u001b[96m9 tags\u001b[0m\n",
      "\u001b[94mround duration\u001b[0m             0.012414856361782382    0.012265013671875       \u001b[92m0.0122\u001b[0m\n",
      "\u001b[94mempty slot duration\u001b[0m        7.5e-05                 7.5e-05                 \u001b[92m0.0000\u001b[0m\n",
      "\u001b[94mcollided slot duration\u001b[0m     0.00019101562500000002  0.00019101562499999997  \u001b[92m0.0000\u001b[0m\n",
      "\u001b[94mreply slot duration\u001b[0m        0.001668374743740638    0.0016557232458864618   \u001b[92m0.0076\u001b[0m\n",
      "\u001b[94mempty slot probability\u001b[0m     0.558684375             0.56028125              \u001b[92m0.0029\u001b[0m\n",
      "\u001b[94mcollided slot probability\u001b[0m  0.10464374999999992     0.10640625              \u001b[92m0.0166\u001b[0m\n",
      "\u001b[94mreply slot probability\u001b[0m     0.33667187500000006     0.3333125               \u001b[92m0.0101\u001b[0m\n",
      "\u001b[96m10 tags\u001b[0m\n",
      "\u001b[94mround duration\u001b[0m             0.012803378798489388    0.012828645703125002    \u001b[92m0.0020\u001b[0m\n",
      "\u001b[94mempty slot duration\u001b[0m        7.5e-05                 7.5e-05                 \u001b[92m0.0000\u001b[0m\n",
      "\u001b[94mcollided slot duration\u001b[0m     0.00019101562500000002  0.00019101562499999997  \u001b[92m0.0000\u001b[0m\n",
      "\u001b[94mreply slot duration\u001b[0m        0.001668374743740638    0.0016612521989511418   \u001b[92m0.0043\u001b[0m\n",
      "\u001b[94mempty slot probability\u001b[0m     0.524115625             0.5228125               \u001b[92m0.0025\u001b[0m\n",
      "\u001b[94mcollided slot probability\u001b[0m  0.12549062500000002     0.124125                \u001b[92m0.0110\u001b[0m\n",
      "\u001b[94mreply slot probability\u001b[0m     0.35039375              0.3530625               \u001b[92m0.0076\u001b[0m\n",
      "\u001b[96m11 tags\u001b[0m\n",
      "\u001b[94mround duration\u001b[0m             0.013107622366414096    0.013069323046875003    \u001b[92m0.0029\u001b[0m\n",
      "\u001b[94mempty slot duration\u001b[0m        7.5e-05                 7.5e-05                 \u001b[92m0.0000\u001b[0m\n",
      "\u001b[94mcollided slot duration\u001b[0m     0.00019101562500000002  0.00019101562499999997  \u001b[92m0.0000\u001b[0m\n",
      "\u001b[94mreply slot duration\u001b[0m        0.001668374743740638    0.0016656167205959002   \u001b[92m0.0017\u001b[0m\n",
      "\u001b[94mempty slot probability\u001b[0m     0.49137500000000006     0.4914375               \u001b[92m0.0001\u001b[0m\n",
      "\u001b[94mcollided slot probability\u001b[0m  0.14793124999999985     0.1488125               \u001b[92m0.0059\u001b[0m\n",
      "\u001b[94mreply slot probability\u001b[0m     0.36069375000000004     0.35975                 \u001b[92m0.0026\u001b[0m\n",
      "\u001b[96m12 tags\u001b[0m\n",
      "\u001b[94mround duration\u001b[0m             0.013326836556655241    0.013499918359375002    \u001b[92m0.0128\u001b[0m\n",
      "\u001b[94mempty slot duration\u001b[0m        7.5e-05                 7.5e-05                 \u001b[92m0.0000\u001b[0m\n",
      "\u001b[94mcollided slot duration\u001b[0m     0.00019101562500000002  0.00019101562499999997  \u001b[92m0.0000\u001b[0m\n",
      "\u001b[94mreply slot duration\u001b[0m        0.001668374743740638    0.001688248378886448    \u001b[92m0.0118\u001b[0m\n",
      "\u001b[94mempty slot probability\u001b[0m     0.46182187500000005     0.4603125               \u001b[92m0.0033\u001b[0m\n",
      "\u001b[94mcollided slot probability\u001b[0m  0.17053124999999997     0.1698125               \u001b[92m0.0042\u001b[0m\n",
      "\u001b[94mreply slot probability\u001b[0m     0.367646875             0.369875                \u001b[92m0.0060\u001b[0m\n",
      "\u001b[96m13 tags\u001b[0m\n",
      "\u001b[94mround duration\u001b[0m             0.013539135794924554    0.013462005859375       \u001b[92m0.0057\u001b[0m\n",
      "\u001b[94mempty slot duration\u001b[0m        7.5e-05                 7.5e-05                 \u001b[92m0.0000\u001b[0m\n",
      "\u001b[94mcollided slot duration\u001b[0m     0.00019101562500000002  0.00019101562499999997  \u001b[92m0.0000\u001b[0m\n",
      "\u001b[94mreply slot duration\u001b[0m        0.001668374743740638    0.001660701240420052    \u001b[92m0.0046\u001b[0m\n",
      "\u001b[94mempty slot probability\u001b[0m     0.4324125000000001      0.4336875               \u001b[92m0.0029\u001b[0m\n",
      "\u001b[94mcollided slot probability\u001b[0m  0.19326874999999993     0.19321875              \u001b[92m0.0003\u001b[0m\n",
      "\u001b[94mreply slot probability\u001b[0m     0.37431875              0.37309375              \u001b[92m0.0033\u001b[0m\n",
      "\u001b[96m14 tags\u001b[0m\n",
      "\u001b[94mround duration\u001b[0m             0.013644797078987952    0.0138666087890625      \u001b[92m0.0160\u001b[0m\n",
      "\u001b[94mempty slot duration\u001b[0m        7.5e-05                 7.5e-05                 \u001b[92m0.0000\u001b[0m\n",
      "\u001b[94mcollided slot duration\u001b[0m     0.00019101562500000002  0.00019101562499999997  \u001b[92m0.0000\u001b[0m\n",
      "\u001b[94mreply slot duration\u001b[0m        0.001668374743740638    0.0016766527789096246   \u001b[92m0.0049\u001b[0m\n",
      "\u001b[94mempty slot probability\u001b[0m     0.405575                0.399875                \u001b[92m0.0143\u001b[0m\n",
      "\u001b[94mcollided slot probability\u001b[0m  0.21774374999999996     0.21665625              \u001b[92m0.0050\u001b[0m\n",
      "\u001b[94mreply slot probability\u001b[0m     0.37668125              0.38346875              \u001b[92m0.0177\u001b[0m\n",
      "\u001b[96m15 tags\u001b[0m\n",
      "\u001b[94mround duration\u001b[0m             0.013766364859143733    0.013564947656250001    \u001b[92m0.0148\u001b[0m\n",
      "\u001b[94mempty slot duration\u001b[0m        7.5e-05                 7.5e-05                 \u001b[92m0.0000\u001b[0m\n",
      "\u001b[94mcollided slot duration\u001b[0m     0.00019101562500000002  0.00019101562499999997  \u001b[92m0.0000\u001b[0m\n",
      "\u001b[94mreply slot duration\u001b[0m        0.001668374743740638    0.001651045380717256    \u001b[92m0.0105\u001b[0m\n",
      "\u001b[94mempty slot probability\u001b[0m     0.37987812499999996     0.381                   \u001b[92m0.0029\u001b[0m\n",
      "\u001b[94mcollided slot probability\u001b[0m  0.2403156250000001      0.24321875              \u001b[92m0.0119\u001b[0m\n",
      "\u001b[94mreply slot probability\u001b[0m     0.37980624999999996     0.37578125              \u001b[92m0.0107\u001b[0m\n",
      "\u001b[96m16 tags\u001b[0m\n",
      "\u001b[94mround duration\u001b[0m             0.013805675737153756    0.013965721875          \u001b[92m0.0115\u001b[0m\n",
      "\u001b[94mempty slot duration\u001b[0m        7.5e-05                 7.5e-05                 \u001b[92m0.0000\u001b[0m\n",
      "\u001b[94mcollided slot duration\u001b[0m     0.00019101562500000002  0.00019101562499999997  \u001b[92m0.0000\u001b[0m\n",
      "\u001b[94mreply slot duration\u001b[0m        0.001668374743740638    0.001666845513623868    \u001b[92m0.0009\u001b[0m\n",
      "\u001b[94mempty slot probability\u001b[0m     0.35663125              0.352625                \u001b[92m0.0114\u001b[0m\n",
      "\u001b[94mcollided slot probability\u001b[0m  0.26372500000000004     0.260875                \u001b[92m0.0109\u001b[0m\n",
      "\u001b[94mreply slot probability\u001b[0m     0.37964375              0.3865                  \u001b[92m0.0177\u001b[0m\n",
      "\u001b[96m17 tags\u001b[0m\n",
      "\u001b[94mround duration\u001b[0m             0.013823145341471728    0.013864372070312502    \u001b[92m0.0030\u001b[0m\n",
      "\u001b[94mempty slot duration\u001b[0m        7.5e-05                 7.5e-05                 \u001b[92m0.0000\u001b[0m\n",
      "\u001b[94mcollided slot duration\u001b[0m     0.00019101562500000002  0.00019101562499999997  \u001b[92m0.0000\u001b[0m\n",
      "\u001b[94mreply slot duration\u001b[0m        0.001668374743740638    0.0016706219966764076   \u001b[92m0.0013\u001b[0m\n",
      "\u001b[94mempty slot probability\u001b[0m     0.33380937499999996     0.332125                \u001b[92m0.0051\u001b[0m\n",
      "\u001b[94mcollided slot probability\u001b[0m  0.2876                  0.28825                 \u001b[92m0.0023\u001b[0m\n",
      "\u001b[94mreply slot probability\u001b[0m     0.378590625             0.379625                \u001b[92m0.0027\u001b[0m\n",
      "\u001b[96m18 tags\u001b[0m\n",
      "\u001b[94mround duration\u001b[0m             0.013795126743116221    0.013914553906250002    \u001b[92m0.0086\u001b[0m\n",
      "\u001b[94mempty slot duration\u001b[0m        7.5e-05                 7.5e-05                 \u001b[92m0.0000\u001b[0m\n",
      "\u001b[94mcollided slot duration\u001b[0m     0.00019101562500000002  0.00019101562499999997  \u001b[92m0.0000\u001b[0m\n",
      "\u001b[94mreply slot duration\u001b[0m        0.001668374743740638    0.0016761182446369638   \u001b[92m0.0046\u001b[0m\n",
      "\u001b[94mempty slot probability\u001b[0m     0.31225312499999996     0.311875                \u001b[92m0.0012\u001b[0m\n",
      "\u001b[94mcollided slot probability\u001b[0m  0.312034375             0.309375                \u001b[92m0.0086\u001b[0m\n",
      "\u001b[94mreply slot probability\u001b[0m     0.3757125               0.37875                 \u001b[92m0.0080\u001b[0m\n",
      "\u001b[96m19 tags\u001b[0m\n",
      "\u001b[94mround duration\u001b[0m             0.01373745609276462     0.013680959570312502    \u001b[92m0.0041\u001b[0m\n",
      "\u001b[94mempty slot duration\u001b[0m        7.5e-05                 7.5e-05                 \u001b[92m0.0000\u001b[0m\n",
      "\u001b[94mcollided slot duration\u001b[0m     0.00019101562500000002  0.00019101562499999997  \u001b[92m0.0000\u001b[0m\n",
      "\u001b[94mreply slot duration\u001b[0m        0.001668374743740638    0.0016679174284536696   \u001b[92m0.0003\u001b[0m\n",
      "\u001b[94mempty slot probability\u001b[0m     0.29345937499999997     0.29478125              \u001b[92m0.0045\u001b[0m\n",
      "\u001b[94mcollided slot probability\u001b[0m  0.33474375              0.33559375              \u001b[92m0.0025\u001b[0m\n",
      "\u001b[94mreply slot probability\u001b[0m     0.371796875             0.369625                \u001b[92m0.0059\u001b[0m\n",
      "\u001b[96m20 tags\u001b[0m\n",
      "\u001b[94mround duration\u001b[0m             0.013644090693632299    0.01357863125           \u001b[92m0.0048\u001b[0m\n",
      "\u001b[94mempty slot duration\u001b[0m        7.5e-05                 7.5e-05                 \u001b[92m0.0000\u001b[0m\n",
      "\u001b[94mcollided slot duration\u001b[0m     0.00019101562500000002  0.00019101562499999997  \u001b[92m0.0000\u001b[0m\n",
      "\u001b[94mreply slot duration\u001b[0m        0.001668374743740638    0.0016581814587955455   \u001b[92m0.0061\u001b[0m\n",
      "\u001b[94mempty slot probability\u001b[0m     0.27554999999999996     0.2758125               \u001b[92m0.0010\u001b[0m\n",
      "\u001b[94mcollided slot probability\u001b[0m  0.35800937499999996     0.35796875              \u001b[92m0.0001\u001b[0m\n",
      "\u001b[94mreply slot probability\u001b[0m     0.3664406250000001      0.36621875              \u001b[92m0.0006\u001b[0m\n"
     ]
    }
   ],
   "source": [
    "# Compare slots durations estimated with Monte-Carlo method and analytic approach\n",
    "BER_INDEX = -2\n",
    "PROTOCOL_NAME = 'tid'\n",
    "\n",
    "rows = []\n",
    "for i, n_tags in enumerate(N_TAGS):\n",
    "    rounds_model = ROUND_MODELS[PROTOCOL_NAME][BER_INDEX][i]\n",
    "    estimated_round_duration = ESTIMATED_ROUND_DURATIONS[PROTOCOL_NAME][BER_INDEX][i]\n",
    "    estiamted_slots_durations = ESTIMATED_SLOTS_DURATIONS[PROTOCOL_NAME][BER_INDEX][i]\n",
    "    estimated_slots_counts = ESTIMATED_SLOTS_COUNTS[PROTOCOL_NAME][BER_INDEX][i]\n",
    "\n",
    "    # Compute slot probabilities:\n",
    "    estimated_slots_probs = SlotValues(\n",
    "        empty=(estimated_slots_counts.empty / protocol.props.n_slots),\n",
    "        collided=(estimated_slots_counts.collided / protocol.props.n_slots),\n",
    "        reply=(estimated_slots_counts.reply / protocol.props.n_slots))\n",
    "    \n",
    "    # Build table rows:\n",
    "    value_rows = [\n",
    "        [fmt_header('round duration'), rounds_model.round_duration, estimated_round_duration],\n",
    "        [fmt_header('empty slot duration'), rounds_model.slots.durations.empty, estiamted_slots_durations.empty],\n",
    "        [fmt_header('collided slot duration'), rounds_model.slots.durations.collided, estiamted_slots_durations.collided],\n",
    "        [fmt_header('reply slot duration'), rounds_model.slots.durations.reply, estiamted_slots_durations.reply],\n",
    "        [fmt_header('empty slot probability'), rounds_model.slots.probs.empty, estimated_slots_probs.empty],\n",
    "        [fmt_header('collided slot probability'), rounds_model.slots.probs.collided, estimated_slots_probs.collided],\n",
    "        [fmt_header('reply slot probability'), rounds_model.slots.probs.reply, estimated_slots_probs.reply],\n",
    "    ]\n",
    "\n",
    "    # Append errors estimations to each row:\n",
    "    for row in value_rows:\n",
    "        row.append(fmt_err(row[-1], row[-2]))\n",
    "    \n",
    "    # Add rows to the main table:\n",
    "    title_row = [fmt_delim(f'{n_tags} tag{pluralize(n_tags)}')] + [''] * 3\n",
    "    rows.append(title_row)\n",
    "    rows.extend(value_rows)\n",
    "\n",
    "headers = [fmt_header(s) for s in ['', 'Analytic', 'Simulation', 'Error']]\n",
    "print(tabulate(rows, headers=headers))"
   ]
  },
  {
   "cell_type": "markdown",
   "metadata": {},
   "source": [
    "## Сравнение длительностей раундов"
   ]
  },
  {
   "cell_type": "code",
   "execution_count": 51,
   "metadata": {},
   "outputs": [
    {
     "data": {
      "image/png": "[encoded data removed]",
      "text/plain": [
       "<Figure size 864x288 with 2 Axes>"
      ]
     },
     "metadata": {
      "needs_background": "light"
     },
     "output_type": "display_data"
    }
   ],
   "source": [
    "CMAP = plt.get_cmap('Greys')\n",
    "fig, (ax1, ax2) = plt.subplots(figsize=(12, 4), nrows=1, ncols=2)\n",
    "MARKERS = ['x', 'd', 'o', \"^\", 'v']\n",
    "LINES = ['-', '--', '-.', ':']\n",
    "\n",
    "for i, ber in enumerate(BER):\n",
    "    color = CMAP(0.5 + 0.5*i/len(BER))\n",
    "    marker = MARKERS[i % len(MARKERS)]\n",
    "    linestyle = LINES[i % len(LINES)]\n",
    "    ax1.plot(N_TAGS, ESTIMATED_ROUND_DURATIONS['epcid'][i], \n",
    "             label=f'BER={ber}, Монте-Карло', marker=marker, color='black', linestyle=\"None\")\n",
    "    ax1.plot(N_TAGS, ANALYTIC_ROUND_DURATIONS['epcid'][i], \n",
    "             label=f'BER={ber}, аналитика', color=color, linestyle=linestyle)\n",
    "    ax2.plot(N_TAGS, ESTIMATED_ROUND_DURATIONS['tid'][i], \n",
    "             label=f'BER={ber}, Монте-Карло', marker=marker, color='black', linestyle=\"None\")\n",
    "    ax2.plot(N_TAGS, ANALYTIC_ROUND_DURATIONS['tid'][i], \n",
    "             label=f'BER={ber}, аналитика', color=color, linestyle=linestyle)\n",
    "\n",
    "lgd = fig.legend(*ax1.get_legend_handles_labels(), loc='lower center', \n",
    "               bbox_to_anchor=(0.5, -0.29), ncol=3)\n",
    "\n",
    "ax1.set_title('Чтение EPCID')\n",
    "ax2.set_title('Чтение TID')\n",
    "# fig.suptitle('Round durations')\n",
    "for ax in (ax1, ax2):\n",
    "    ax.grid()\n",
    "    ax.set_xlabel('Число меток')\n",
    "    ax.set_ylabel(f'Длительность раунда')\n",
    "plt.tight_layout()\n",
    "plt.savefig('images/round_durations_validation.pdf', bbox_extra_artists=(lgd,), bbox_inches='tight')"
   ]
  },
  {
   "cell_type": "markdown",
   "metadata": {},
   "source": [
    "## Экспериментальный код"
   ]
  },
  {
   "cell_type": "code",
   "execution_count": null,
   "metadata": {},
   "outputs": [],
   "source": []
  }
 ],
 "metadata": {
  "kernelspec": {
   "display_name": "Python 3",
   "language": "python",
   "name": "python3"
  },
  "language_info": {
   "codemirror_mode": {
    "name": "ipython",
    "version": 3
   },
   "file_extension": ".py",
   "mimetype": "text/x-python",
   "name": "python",
   "nbconvert_exporter": "python",
   "pygments_lexer": "ipython3",
   "version": "3.8.2"
  }
 },
 "nbformat": 4,
 "nbformat_minor": 4
}
